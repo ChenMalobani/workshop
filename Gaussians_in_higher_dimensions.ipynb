{
  "nbformat": 4,
  "nbformat_minor": 0,
  "metadata": {
    "colab": {
      "name": "Gaussians in higher dimensions",
      "provenance": [],
      "private_outputs": true,
      "collapsed_sections": [],
      "authorship_tag": "ABX9TyP4CxVlgherQ7W5pP+RAMA2",
      "include_colab_link": true
    },
    "kernelspec": {
      "name": "python3",
      "display_name": "Python 3"
    }
  },
  "cells": [
    {
      "cell_type": "markdown",
      "metadata": {
        "id": "view-in-github",
        "colab_type": "text"
      },
      "source": [
        "<a href=\"https://colab.research.google.com/github/eyaler/workshop/blob/master/Gaussians_in_higher_dimensions.ipynb\" target=\"_parent\"><img src=\"https://colab.research.google.com/assets/colab-badge.svg\" alt=\"Open In Colab\"/></a>"
      ]
    },
    {
      "cell_type": "code",
      "metadata": {
        "id": "VXvsLHuU0_Dv",
        "colab_type": "code",
        "colab": {}
      },
      "source": [
        "import warnings\n",
        "warnings.filterwarnings('ignore')\n",
        "import numpy as np\n",
        "import matplotlib.pyplot as plt\n",
        "import seaborn as sns\n",
        "from ipywidgets import interact, IntSlider, Layout\n",
        "%matplotlib inline\n",
        "sns.set()\n",
        "\n",
        "size = 500\n",
        "plt.figure(figsize=(12,1))\n",
        "plt.scatter(np.random.randn(size),[0]*size, alpha=.1, s=200, marker='x')\n",
        "plt.xlim(-3,3)\n",
        "plt.ylim(-3,3)\n",
        "plt.show()"
      ],
      "execution_count": null,
      "outputs": []
    },
    {
      "cell_type": "code",
      "metadata": {
        "id": "WEpu5gZkBLm9",
        "colab_type": "code",
        "colab": {}
      },
      "source": [
        "size = 10000\n",
        "fig = plt.figure(figsize=(12,12))\n",
        "plt.scatter(np.random.randn(size), np.random.randn(size), alpha=.1, s=200, marker='x')\n",
        "plt.xlim(-3,3)\n",
        "plt.ylim(-3,3)\n",
        "plt.show()"
      ],
      "execution_count": null,
      "outputs": []
    },
    {
      "cell_type": "code",
      "metadata": {
        "id": "RQajV-CBCFpU",
        "colab_type": "code",
        "colab": {}
      },
      "source": [
        "size = 10000\n",
        "fig = plt.figure(figsize=(14,14))\n",
        "ax = fig.add_subplot(111, projection='3d')\n",
        "ax.scatter(np.random.randn(size), np.random.randn(size), np.random.randn(size), alpha=.1, s=200, marker='x')\n",
        "ax.set_xlim(-2,2)\n",
        "ax.set_ylim(-2,2)\n",
        "ax.set_zlim(-2,2)\n",
        "plt.show()"
      ],
      "execution_count": null,
      "outputs": []
    },
    {
      "cell_type": "code",
      "metadata": {
        "id": "qsZh-VTi-ykp",
        "colab_type": "code",
        "colab": {}
      },
      "source": [
        "max_dim = 500\n",
        "x = np.random.randn(50000, max_dim)\n",
        "@interact(dimension=IntSlider(min=1, max=max_dim, step=1, value=1, layout=Layout(width='50%')))\n",
        "def f(dimension):\n",
        "  plt.figure(figsize=(12,8))\n",
        "  sns.distplot(np.linalg.norm(x[:,:dimension], axis=-1))\n",
        "  plt.xlabel('Magnitude')\n",
        "  plt.xlim(0,25)\n",
        "  plt.ylim(0,1)"
      ],
      "execution_count": null,
      "outputs": []
    }
  ]
}