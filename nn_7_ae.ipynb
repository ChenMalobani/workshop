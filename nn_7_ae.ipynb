{
 "cells": [
  {
   "cell_type": "markdown",
   "metadata": {},
   "source": [
    "[![Open In Colab](https://colab.research.google.com/assets/colab-badge.svg)](https://colab.research.google.com/github/eyaler/workshop/blob/master/nn_7_ae.ipynb)"
   ]
  },
  {
   "cell_type": "markdown",
   "metadata": {
    "colab_type": "text",
    "id": "VPL9z9UsfEgd"
   },
   "source": [
    "# 7. Autoencoders for image generation"
   ]
  },
  {
   "cell_type": "code",
   "execution_count": null,
   "metadata": {
    "colab": {},
    "colab_type": "code",
    "id": "jaJB3RfDdoPl"
   },
   "outputs": [],
   "source": [
    "import numpy as np\n",
    "import matplotlib\n",
    "import matplotlib.pyplot as plt\n",
    "from sklearn.utils import shuffle\n",
    "from keras import Input, Model\n",
    "from keras.layers import Dense, Dropout, Conv2D, MaxPooling2D, Flatten, BatchNormalization, UpSampling2D, Reshape\n",
    "from keras.preprocessing.image import ImageDataGenerator\n",
    "from keras.datasets import mnist, cifar10\n",
    "from keras.utils import to_categorical\n",
    "\n",
    "matplotlib.rcParams['figure.figsize'] = (10.0, 8.0)"
   ]
  },
  {
   "cell_type": "code",
   "execution_count": null,
   "metadata": {
    "colab": {},
    "colab_type": "code",
    "id": "Wq3kt-CcdoPu"
   },
   "outputs": [],
   "source": [
    "# set random seeds for more reproducible results\n",
    "from numpy.random import seed\n",
    "seed(42)\n",
    "from tensorflow import set_random_seed\n",
    "set_random_seed(43)"
   ]
  },
  {
   "cell_type": "code",
   "execution_count": null,
   "metadata": {
    "colab": {
     "base_uri": "https://localhost:8080/",
     "height": 93
    },
    "colab_type": "code",
    "executionInfo": {
     "elapsed": 2040,
     "status": "ok",
     "timestamp": 1556443084602,
     "user": {
      "displayName": "Eyal Gruss",
      "photoUrl": "https://lh4.googleusercontent.com/-u09YaZrQAqY/AAAAAAAAAAI/AAAAAAAAC64/Edn8Phw0CRs/s64/photo.jpg",
      "userId": "10806915125759667398"
     },
     "user_tz": -180
    },
    "id": "OFIQLJfAdoP4",
    "outputId": "cf5a2d93-d92d-4a00-f204-765259994cf4"
   },
   "outputs": [],
   "source": [
    "# load dataset\n",
    "(x_train, y_train), (x_test, y_test) = mnist.load_data()\n",
    "#(x_train, y_train), (x_test, y_test) = cifar10.load_data()\n",
    "x_train = np.expand_dims(x_train, axis=-1)\n",
    "x_test = np.expand_dims(x_test, axis=-1)\n",
    "print(x_train.shape, y_train.shape)\n",
    "gray = False\n",
    "train_size = len(y_train)\n",
    "test_size = len(y_test)\n",
    "xdim = x_train.shape[1]\n",
    "ydim = x_train.shape[2]\n",
    "print(x_train.dtype, y_train.dtype)"
   ]
  },
  {
   "cell_type": "code",
   "execution_count": null,
   "metadata": {
    "colab": {
     "base_uri": "https://localhost:8080/",
     "height": 505
    },
    "colab_type": "code",
    "executionInfo": {
     "elapsed": 2278,
     "status": "ok",
     "timestamp": 1556443084867,
     "user": {
      "displayName": "Eyal Gruss",
      "photoUrl": "https://lh4.googleusercontent.com/-u09YaZrQAqY/AAAAAAAAAAI/AAAAAAAAC64/Edn8Phw0CRs/s64/photo.jpg",
      "userId": "10806915125759667398"
     },
     "user_tz": -180
    },
    "id": "xOR0rcAvdoQD",
    "outputId": "c05dbf42-0f21-4558-d066-2db16a0671d2"
   },
   "outputs": [],
   "source": [
    "plt.imshow(x_train[0,...,0], cmap='gray')"
   ]
  },
  {
   "cell_type": "code",
   "execution_count": null,
   "metadata": {
    "colab": {
     "base_uri": "https://localhost:8080/",
     "height": 74
    },
    "colab_type": "code",
    "executionInfo": {
     "elapsed": 2267,
     "status": "ok",
     "timestamp": 1556443084873,
     "user": {
      "displayName": "Eyal Gruss",
      "photoUrl": "https://lh4.googleusercontent.com/-u09YaZrQAqY/AAAAAAAAAAI/AAAAAAAAC64/Edn8Phw0CRs/s64/photo.jpg",
      "userId": "10806915125759667398"
     },
     "user_tz": -180
    },
    "id": "aByrOryzdoQL",
    "outputId": "2e45842b-755c-4bdf-a6b9-4341cd5a02b7"
   },
   "outputs": [],
   "source": [
    "print(np.min(x_train), np.max(x_train), np.median(x_train))\n",
    "print(np.unique(y_train, return_counts=True))\n",
    "print(np.unique(y_test, return_counts=True))"
   ]
  },
  {
   "cell_type": "code",
   "execution_count": null,
   "metadata": {
    "colab": {},
    "colab_type": "code",
    "id": "9t6k8cTn8t7S"
   },
   "outputs": [],
   "source": [
    "x_train = np.asarray([x for x,y in zip(x_train,y_train) if y in (2,3,5,6,8)])\n"
   ]
  },
  {
   "cell_type": "code",
   "execution_count": null,
   "metadata": {
    "colab": {},
    "colab_type": "code",
    "id": "3OSVDe_sdoQR"
   },
   "outputs": [],
   "source": [
    "n_classes = len(np.unique(y_train))\n",
    "x_train = shuffle(x_train, random_state=44)\n",
    "x_train = x_train/255\n",
    "x_test = x_test/255\n"
   ]
  },
  {
   "cell_type": "code",
   "execution_count": null,
   "metadata": {
    "colab": {},
    "colab_type": "code",
    "id": "mgy7JjGgdoQd"
   },
   "outputs": [],
   "source": [
    "def get_model():\n",
    "    inputs = Input(shape=(xdim, ydim,1))\n",
    "    f = Conv2D(filters=8, kernel_size=3, activation='relu', padding='same')(inputs)\n",
    "    f = MaxPooling2D()(f)\n",
    "    f = Conv2D(filters=8, kernel_size=3, activation='relu', padding='same')(f)\n",
    "    f = MaxPooling2D()(f)\n",
    "    f = Conv2D(filters=2, kernel_size=3, activation='relu', padding='same')(f)\n",
    "    encoded = MaxPooling2D(padding='same')(f)\n",
    "    \n",
    "    f = Conv2D(filters=2, kernel_size=3, activation='relu', padding='same')(encoded)\n",
    "    f = UpSampling2D()(f)\n",
    "    f = Conv2D(filters=8, kernel_size=3, activation='relu', padding='same')(f)\n",
    "    f = UpSampling2D()(f)\n",
    "    f = Conv2D(filters=8, kernel_size=3, activation='relu')(f)\n",
    "    f = UpSampling2D()(f)\n",
    "    outputs = Conv2D(filters=1, kernel_size=3, activation='sigmoid', padding='same')(f)\n",
    "    \n",
    "    return Model(inputs=inputs, outputs=outputs), Model(inputs=inputs, outputs=encoded)"
   ]
  },
  {
   "cell_type": "code",
   "execution_count": null,
   "metadata": {
    "colab": {
     "base_uri": "https://localhost:8080/",
     "height": 12222
    },
    "colab_type": "code",
    "executionInfo": {
     "elapsed": 206944,
     "status": "ok",
     "timestamp": 1556443289580,
     "user": {
      "displayName": "Eyal Gruss",
      "photoUrl": "https://lh4.googleusercontent.com/-u09YaZrQAqY/AAAAAAAAAAI/AAAAAAAAC64/Edn8Phw0CRs/s64/photo.jpg",
      "userId": "10806915125759667398"
     },
     "user_tz": -180
    },
    "id": "3JaZWamydoQk",
    "outputId": "a71c2e0b-91a3-4bb3-908b-3c97b84b2f33"
   },
   "outputs": [],
   "source": [
    "model, encoder = get_model()\n",
    "\n",
    "print(model.summary())\n",
    "model.compile(optimizer='adadelta', loss='binary_crossentropy')\n",
    "history = model.fit(x=x_train, y=x_train, batch_size=512, epochs=300, validation_split=0.2)"
   ]
  },
  {
   "cell_type": "code",
   "execution_count": null,
   "metadata": {
    "colab": {
     "base_uri": "https://localhost:8080/",
     "height": 513
    },
    "colab_type": "code",
    "executionInfo": {
     "elapsed": 207354,
     "status": "ok",
     "timestamp": 1556443290004,
     "user": {
      "displayName": "Eyal Gruss",
      "photoUrl": "https://lh4.googleusercontent.com/-u09YaZrQAqY/AAAAAAAAAAI/AAAAAAAAC64/Edn8Phw0CRs/s64/photo.jpg",
      "userId": "10806915125759667398"
     },
     "user_tz": -180
    },
    "id": "tzwkn83-doRA",
    "outputId": "e54e051c-67f8-4260-f589-e660ac6e6da4"
   },
   "outputs": [],
   "source": [
    "# summarize history for loss\n",
    "plt.plot(history.history['loss'])\n",
    "plt.plot(history.history['val_loss'])\n",
    "plt.title('model loss')\n",
    "plt.ylabel('loss')\n",
    "plt.xlabel('epoch')\n",
    "plt.legend(['train', 'valid'], loc='upper left')\n",
    "plt.show()"
   ]
  },
  {
   "cell_type": "code",
   "execution_count": null,
   "metadata": {
    "colab": {},
    "colab_type": "code",
    "id": "NWZMYSWUG3Hh"
   },
   "outputs": [],
   "source": [
    "x_normal = np.asarray([x for x,y in zip(x_test,y_test) if y in (2,3,5,6,8)])\n",
    "x_novel = np.asarray([x for x,y in zip(x_test,y_test) if y==4])\n",
    "recon_normal = model.predict(x_normal)\n",
    "recon_novel = model.predict(x_novel)"
   ]
  },
  {
   "cell_type": "code",
   "execution_count": null,
   "metadata": {
    "colab": {
     "base_uri": "https://localhost:8080/",
     "height": 505
    },
    "colab_type": "code",
    "executionInfo": {
     "elapsed": 207835,
     "status": "ok",
     "timestamp": 1556443290504,
     "user": {
      "displayName": "Eyal Gruss",
      "photoUrl": "https://lh4.googleusercontent.com/-u09YaZrQAqY/AAAAAAAAAAI/AAAAAAAAC64/Edn8Phw0CRs/s64/photo.jpg",
      "userId": "10806915125759667398"
     },
     "user_tz": -180
    },
    "id": "Rb6iGw7gHKK1",
    "outputId": "45378921-d34b-4f8c-ff45-72842ecc75bb"
   },
   "outputs": [],
   "source": [
    "plt.imshow(x_normal[0,...,0], cmap='gray')\n"
   ]
  },
  {
   "cell_type": "code",
   "execution_count": null,
   "metadata": {
    "colab": {
     "base_uri": "https://localhost:8080/",
     "height": 505
    },
    "colab_type": "code",
    "executionInfo": {
     "elapsed": 208125,
     "status": "ok",
     "timestamp": 1556443290805,
     "user": {
      "displayName": "Eyal Gruss",
      "photoUrl": "https://lh4.googleusercontent.com/-u09YaZrQAqY/AAAAAAAAAAI/AAAAAAAAC64/Edn8Phw0CRs/s64/photo.jpg",
      "userId": "10806915125759667398"
     },
     "user_tz": -180
    },
    "id": "SeouczueLuT3",
    "outputId": "87ffaabd-21af-428f-ee47-9d4db198c7bb"
   },
   "outputs": [],
   "source": [
    "plt.imshow(recon_normal[0,...,0],cmap='gray')"
   ]
  },
  {
   "cell_type": "code",
   "execution_count": null,
   "metadata": {
    "colab": {
     "base_uri": "https://localhost:8080/",
     "height": 505
    },
    "colab_type": "code",
    "executionInfo": {
     "elapsed": 208367,
     "status": "ok",
     "timestamp": 1556443291061,
     "user": {
      "displayName": "Eyal Gruss",
      "photoUrl": "https://lh4.googleusercontent.com/-u09YaZrQAqY/AAAAAAAAAAI/AAAAAAAAC64/Edn8Phw0CRs/s64/photo.jpg",
      "userId": "10806915125759667398"
     },
     "user_tz": -180
    },
    "id": "Tc17FyDRSjPD",
    "outputId": "fc0042e4-f7ac-4e6c-cadb-41fb54f5ea2b"
   },
   "outputs": [],
   "source": [
    "plt.imshow(x_novel[0,...,0], cmap='gray')"
   ]
  },
  {
   "cell_type": "code",
   "execution_count": null,
   "metadata": {
    "colab": {
     "base_uri": "https://localhost:8080/",
     "height": 505
    },
    "colab_type": "code",
    "executionInfo": {
     "elapsed": 208622,
     "status": "ok",
     "timestamp": 1556443291330,
     "user": {
      "displayName": "Eyal Gruss",
      "photoUrl": "https://lh4.googleusercontent.com/-u09YaZrQAqY/AAAAAAAAAAI/AAAAAAAAC64/Edn8Phw0CRs/s64/photo.jpg",
      "userId": "10806915125759667398"
     },
     "user_tz": -180
    },
    "id": "i7IxR1JfSmOO",
    "outputId": "3c2c6b0f-af54-4009-a685-01db8b2de518"
   },
   "outputs": [],
   "source": [
    "plt.imshow(recon_novel[0,...,0],cmap='gray')"
   ]
  },
  {
   "cell_type": "code",
   "execution_count": null,
   "metadata": {
    "colab": {
     "base_uri": "https://localhost:8080/",
     "height": 694
    },
    "colab_type": "code",
    "executionInfo": {
     "elapsed": 209122,
     "status": "ok",
     "timestamp": 1556443291844,
     "user": {
      "displayName": "Eyal Gruss",
      "photoUrl": "https://lh4.googleusercontent.com/-u09YaZrQAqY/AAAAAAAAAAI/AAAAAAAAC64/Edn8Phw0CRs/s64/photo.jpg",
      "userId": "10806915125759667398"
     },
     "user_tz": -180
    },
    "id": "adnaq4duIjtD",
    "outputId": "5ec6c22d-4394-4fb1-daf7-3bbf54e4c327"
   },
   "outputs": [],
   "source": [
    "error_normal = -np.mean(np.log(recon_normal+1e-19)*x_normal+np.log(1-recon_normal+1e-19)*(1-x_normal),axis=(1,2,3))\n",
    "error_novel = -np.mean(np.log(recon_novel+1e-19)*x_novel+np.log(1-recon_novel+1e-19)*(1-x_novel),axis=(1,2,3))\n",
    "print(np.mean(error_normal),np.mean(error_novel))\n",
    "plt.hist(error_normal, 20, density=True, alpha=0.5, label='normal')\n",
    "plt.hist(error_novel, 20, density=True, alpha=0.5, label='novel')"
   ]
  },
  {
   "cell_type": "code",
   "execution_count": null,
   "metadata": {
    "colab": {},
    "colab_type": "code",
    "id": "hb0LwOrxSoRD"
   },
   "outputs": [],
   "source": [
    "code_normal = np.reshape(encoder.predict(x_normal),(-1,32))\n",
    "code_novel = np.reshape(encoder.predict(x_novel),(-1,32))"
   ]
  },
  {
   "cell_type": "code",
   "execution_count": null,
   "metadata": {
    "colab": {},
    "colab_type": "code",
    "id": "RyuE5yPDkrsN"
   },
   "outputs": [],
   "source": [
    "from sklearn.manifold import TSNE\n",
    "tsne = TSNE(n_components=2, init='pca')\n",
    "low = tsne.fit_transform(np.vstack((code_normal,code_novel)))\n"
   ]
  },
  {
   "cell_type": "code",
   "execution_count": null,
   "metadata": {
    "colab": {
     "base_uri": "https://localhost:8080/",
     "height": 416
    },
    "colab_type": "code",
    "executionInfo": {
     "elapsed": 256602,
     "status": "ok",
     "timestamp": 1556443339343,
     "user": {
      "displayName": "Eyal Gruss",
      "photoUrl": "https://lh4.googleusercontent.com/-u09YaZrQAqY/AAAAAAAAAAI/AAAAAAAAC64/Edn8Phw0CRs/s64/photo.jpg",
      "userId": "10806915125759667398"
     },
     "user_tz": -180
    },
    "id": "4Uz_41EFvHq0",
    "outputId": "09c304fa-55ea-4b0f-8c0a-a20757a87d93"
   },
   "outputs": [],
   "source": [
    "t_normal = low[:len(code_normal)]\n",
    "t_novel = low[len(code_normal):]\n",
    "fig=plt.figure(figsize=(9,6), dpi= 80, facecolor='w', edgecolor='k')\n",
    "plt.scatter(t_normal[:,0],t_normal[:,1],color='b',s=2)\n",
    "plt.scatter(t_novel[:,0],t_novel[:,1],color='r',alpha=0.5,s=2)\n",
    "plt.show()\n"
   ]
  }
 ],
 "metadata": {
  "accelerator": "GPU",
  "colab": {
   "collapsed_sections": [],
   "name": "nn_7_ae",
   "provenance": [
    {
     "file_id": "https://gist.github.com/eyaler/7dd9d72950dbf8f1182643935c245515#file-nn_4_cnn-ipynb",
     "timestamp": 1556402323055
    }
   ],
   "version": "0.3.2"
  },
  "kernelspec": {
   "display_name": "Python 3",
   "language": "python",
   "name": "python3"
  },
  "language_info": {
   "codemirror_mode": {
    "name": "ipython",
    "version": 3
   },
   "file_extension": ".py",
   "mimetype": "text/x-python",
   "name": "python",
   "nbconvert_exporter": "python",
   "pygments_lexer": "ipython3",
   "version": "3.6.8"
  }
 },
 "nbformat": 4,
 "nbformat_minor": 1
}
