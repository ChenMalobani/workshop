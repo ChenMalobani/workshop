{
  "nbformat": 4,
  "nbformat_minor": 0,
  "metadata": {
    "accelerator": "GPU",
    "colab": {
      "name": "nn_7_ae",
      "version": "0.3.2",
      "provenance": [],
      "collapsed_sections": []
    },
    "kernelspec": {
      "name": "python3",
      "display_name": "Python 3"
    },
    "language_info": {
      "codemirror_mode": {
        "name": "ipython",
        "version": 3
      },
      "file_extension": ".py",
      "mimetype": "text/x-python",
      "name": "python",
      "nbconvert_exporter": "python",
      "pygments_lexer": "ipython3",
      "version": "3.6.8"
    }
  },
  "cells": [
    {
      "cell_type": "markdown",
      "metadata": {
        "id": "lDvCrqpTBD0C",
        "colab_type": "text"
      },
      "source": [
        "[![Open In Colab](https://colab.research.google.com/assets/colab-badge.svg)](https://colab.research.google.com/github/eyaler/workshop/blob/master/nn_7_ae.ipynb)"
      ]
    },
    {
      "cell_type": "markdown",
      "metadata": {
        "colab_type": "text",
        "id": "VPL9z9UsfEgd"
      },
      "source": [
        "# 7. Autoencoders for image generation"
      ]
    },
    {
      "cell_type": "code",
      "metadata": {
        "colab_type": "code",
        "id": "jaJB3RfDdoPl",
        "colab": {}
      },
      "source": [
        "import numpy as np\n",
        "import matplotlib\n",
        "import matplotlib.pyplot as plt\n",
        "from sklearn.utils import shuffle\n",
        "from keras import Input, Model\n",
        "from keras.layers import Dense, Dropout, Conv2D, MaxPooling2D, Flatten, BatchNormalization, UpSampling2D, Reshape\n",
        "from keras.preprocessing.image import ImageDataGenerator\n",
        "from keras.datasets import mnist, cifar10\n",
        "from keras.utils import to_categorical\n",
        "\n",
        "matplotlib.rcParams['figure.figsize'] = (10.0, 8.0)"
      ],
      "execution_count": 0,
      "outputs": []
    },
    {
      "cell_type": "code",
      "metadata": {
        "colab_type": "code",
        "id": "Wq3kt-CcdoPu",
        "colab": {}
      },
      "source": [
        "# set random seeds for more reproducible results\n",
        "from numpy.random import seed\n",
        "seed(42)\n",
        "from tensorflow import set_random_seed\n",
        "set_random_seed(43)"
      ],
      "execution_count": 0,
      "outputs": []
    },
    {
      "cell_type": "code",
      "metadata": {
        "colab_type": "code",
        "id": "OFIQLJfAdoP4",
        "colab": {}
      },
      "source": [
        "# load dataset\n",
        "(x_train, y_train), (x_test, y_test) = mnist.load_data()\n",
        "#(x_train, y_train), (x_test, y_test) = cifar10.load_data()\n",
        "x_train = np.expand_dims(x_train, axis=-1)\n",
        "x_test = np.expand_dims(x_test, axis=-1)\n",
        "print(x_train.shape, y_train.shape)\n",
        "gray = False\n",
        "train_size = len(y_train)\n",
        "test_size = len(y_test)\n",
        "xdim = x_train.shape[1]\n",
        "ydim = x_train.shape[2]\n",
        "print(x_train.dtype, y_train.dtype)"
      ],
      "execution_count": 0,
      "outputs": []
    },
    {
      "cell_type": "code",
      "metadata": {
        "colab_type": "code",
        "id": "xOR0rcAvdoQD",
        "colab": {}
      },
      "source": [
        "plt.imshow(x_train[0,...,0], cmap='gray')"
      ],
      "execution_count": 0,
      "outputs": []
    },
    {
      "cell_type": "code",
      "metadata": {
        "colab_type": "code",
        "id": "aByrOryzdoQL",
        "colab": {}
      },
      "source": [
        "print(np.min(x_train), np.max(x_train), np.median(x_train))\n",
        "print(np.unique(y_train, return_counts=True))\n",
        "print(np.unique(y_test, return_counts=True))"
      ],
      "execution_count": 0,
      "outputs": []
    },
    {
      "cell_type": "code",
      "metadata": {
        "colab_type": "code",
        "id": "9t6k8cTn8t7S",
        "colab": {}
      },
      "source": [
        "x_train = np.asarray([x for x,y in zip(x_train,y_train) if y in (2,3,5,6,8)])\n"
      ],
      "execution_count": 0,
      "outputs": []
    },
    {
      "cell_type": "code",
      "metadata": {
        "colab_type": "code",
        "id": "3OSVDe_sdoQR",
        "colab": {}
      },
      "source": [
        "n_classes = len(np.unique(y_train))\n",
        "x_train = shuffle(x_train, random_state=44)\n",
        "x_train = x_train/255\n",
        "x_test = x_test/255\n"
      ],
      "execution_count": 0,
      "outputs": []
    },
    {
      "cell_type": "code",
      "metadata": {
        "colab_type": "code",
        "id": "mgy7JjGgdoQd",
        "colab": {}
      },
      "source": [
        "def get_model():\n",
        "    inputs = Input(shape=(xdim, ydim,1))\n",
        "    f = Conv2D(filters=8, kernel_size=3, activation='relu', padding='same')(inputs)\n",
        "    f = MaxPooling2D()(f)\n",
        "    f = Conv2D(filters=8, kernel_size=3, activation='relu', padding='same')(f)\n",
        "    f = MaxPooling2D()(f)\n",
        "    f = Conv2D(filters=2, kernel_size=3, activation='relu', padding='same')(f)\n",
        "    encoded = MaxPooling2D(padding='same')(f)\n",
        "    \n",
        "    f = Conv2D(filters=2, kernel_size=3, activation='relu', padding='same')(encoded)\n",
        "    f = UpSampling2D()(f)\n",
        "    f = Conv2D(filters=8, kernel_size=3, activation='relu', padding='same')(f)\n",
        "    f = UpSampling2D()(f)\n",
        "    f = Conv2D(filters=8, kernel_size=3, activation='relu')(f)\n",
        "    f = UpSampling2D()(f)\n",
        "    outputs = Conv2D(filters=1, kernel_size=3, activation='sigmoid', padding='same')(f)\n",
        "    \n",
        "    return Model(inputs=inputs, outputs=outputs), Model(inputs=inputs, outputs=encoded)"
      ],
      "execution_count": 0,
      "outputs": []
    },
    {
      "cell_type": "code",
      "metadata": {
        "colab_type": "code",
        "id": "3JaZWamydoQk",
        "colab": {}
      },
      "source": [
        "model, encoder = get_model()\n",
        "\n",
        "print(model.summary())\n",
        "model.compile(optimizer='adadelta', loss='binary_crossentropy')\n",
        "history = model.fit(x=x_train, y=x_train, batch_size=512, epochs=300, validation_split=0.2)"
      ],
      "execution_count": 0,
      "outputs": []
    },
    {
      "cell_type": "code",
      "metadata": {
        "colab_type": "code",
        "id": "tzwkn83-doRA",
        "colab": {}
      },
      "source": [
        "# summarize history for loss\n",
        "plt.plot(history.history['loss'])\n",
        "plt.plot(history.history['val_loss'])\n",
        "plt.title('model loss')\n",
        "plt.ylabel('loss')\n",
        "plt.xlabel('epoch')\n",
        "plt.legend(['train', 'valid'], loc='upper left')\n",
        "plt.show()"
      ],
      "execution_count": 0,
      "outputs": []
    },
    {
      "cell_type": "code",
      "metadata": {
        "colab_type": "code",
        "id": "NWZMYSWUG3Hh",
        "colab": {}
      },
      "source": [
        "x_normal = np.asarray([x for x,y in zip(x_test,y_test) if y in (2,3,5,6,8)])\n",
        "x_novel = np.asarray([x for x,y in zip(x_test,y_test) if y==4])\n",
        "recon_normal = model.predict(x_normal)\n",
        "recon_novel = model.predict(x_novel)"
      ],
      "execution_count": 0,
      "outputs": []
    },
    {
      "cell_type": "code",
      "metadata": {
        "colab_type": "code",
        "id": "Rb6iGw7gHKK1",
        "colab": {}
      },
      "source": [
        "plt.imshow(x_normal[0,...,0], cmap='gray')\n"
      ],
      "execution_count": 0,
      "outputs": []
    },
    {
      "cell_type": "code",
      "metadata": {
        "colab_type": "code",
        "id": "SeouczueLuT3",
        "colab": {}
      },
      "source": [
        "plt.imshow(recon_normal[0,...,0],cmap='gray')"
      ],
      "execution_count": 0,
      "outputs": []
    },
    {
      "cell_type": "code",
      "metadata": {
        "colab_type": "code",
        "id": "Tc17FyDRSjPD",
        "colab": {}
      },
      "source": [
        "plt.imshow(x_novel[0,...,0], cmap='gray')"
      ],
      "execution_count": 0,
      "outputs": []
    },
    {
      "cell_type": "code",
      "metadata": {
        "colab_type": "code",
        "id": "i7IxR1JfSmOO",
        "colab": {}
      },
      "source": [
        "plt.imshow(recon_novel[0,...,0],cmap='gray')"
      ],
      "execution_count": 0,
      "outputs": []
    },
    {
      "cell_type": "code",
      "metadata": {
        "colab_type": "code",
        "id": "adnaq4duIjtD",
        "colab": {}
      },
      "source": [
        "error_normal = -np.mean(np.log(recon_normal+1e-19)*x_normal+np.log(1-recon_normal+1e-19)*(1-x_normal),axis=(1,2,3))\n",
        "error_novel = -np.mean(np.log(recon_novel+1e-19)*x_novel+np.log(1-recon_novel+1e-19)*(1-x_novel),axis=(1,2,3))\n",
        "print(np.mean(error_normal),np.mean(error_novel))\n",
        "plt.hist(error_normal, 20, density=True, alpha=0.5, label='normal')\n",
        "plt.hist(error_novel, 20, density=True, alpha=0.5, label='novel')"
      ],
      "execution_count": 0,
      "outputs": []
    },
    {
      "cell_type": "code",
      "metadata": {
        "colab_type": "code",
        "id": "hb0LwOrxSoRD",
        "colab": {}
      },
      "source": [
        "code_normal = np.reshape(encoder.predict(x_normal),(-1,32))\n",
        "code_novel = np.reshape(encoder.predict(x_novel),(-1,32))"
      ],
      "execution_count": 0,
      "outputs": []
    },
    {
      "cell_type": "code",
      "metadata": {
        "colab_type": "code",
        "id": "RyuE5yPDkrsN",
        "colab": {}
      },
      "source": [
        "from sklearn.manifold import TSNE\n",
        "tsne = TSNE(n_components=2, init='pca')\n",
        "low = tsne.fit_transform(np.vstack((code_normal,code_novel)))\n"
      ],
      "execution_count": 0,
      "outputs": []
    },
    {
      "cell_type": "code",
      "metadata": {
        "colab_type": "code",
        "id": "4Uz_41EFvHq0",
        "colab": {}
      },
      "source": [
        "t_normal = low[:len(code_normal)]\n",
        "t_novel = low[len(code_normal):]\n",
        "fig=plt.figure(figsize=(9,6), dpi= 80, facecolor='w', edgecolor='k')\n",
        "plt.scatter(t_normal[:,0],t_normal[:,1],color='b',s=2)\n",
        "plt.scatter(t_novel[:,0],t_novel[:,1],color='r',alpha=0.5,s=2)\n",
        "plt.show()\n"
      ],
      "execution_count": 0,
      "outputs": []
    }
  ]
}