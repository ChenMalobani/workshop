{
  "nbformat": 4,
  "nbformat_minor": 0,
  "metadata": {
    "accelerator": "GPU",
    "colab": {
      "name": "nn_6_novelty.ipynb",
      "provenance": [],
      "collapsed_sections": []
    },
    "kernelspec": {
      "name": "python3",
      "display_name": "Python 3"
    },
    "language_info": {
      "codemirror_mode": {
        "name": "ipython",
        "version": 3
      },
      "file_extension": ".py",
      "mimetype": "text/x-python",
      "name": "python",
      "nbconvert_exporter": "python",
      "pygments_lexer": "ipython3",
      "version": "3.6.8"
    }
  },
  "cells": [
    {
      "cell_type": "markdown",
      "metadata": {
        "id": "UYGRlqQrBBmr",
        "colab_type": "text"
      },
      "source": [
        "[![Open In Colab](https://colab.research.google.com/assets/colab-badge.svg)](https://colab.research.google.com/github/eyaler/workshop/blob/master/nn_6_novelty.ipynb)"
      ]
    },
    {
      "cell_type": "markdown",
      "metadata": {
        "colab_type": "text",
        "id": "VPL9z9UsfEgd"
      },
      "source": [
        "# 6. Novelty detection\n"
      ]
    },
    {
      "cell_type": "code",
      "metadata": {
        "colab_type": "code",
        "id": "jaJB3RfDdoPl",
        "colab": {}
      },
      "source": [
        "%tensorflow_version 1.x\n",
        "import numpy as np\n",
        "import matplotlib\n",
        "import matplotlib.pyplot as plt\n",
        "from sklearn.utils import shuffle\n",
        "from keras import Input, Model\n",
        "from keras.layers import Dense, Dropout, Conv2D, MaxPooling2D, Flatten, BatchNormalization, Activation\n",
        "from keras.preprocessing.image import ImageDataGenerator\n",
        "from keras.datasets import mnist, cifar10\n",
        "from keras.utils import to_categorical\n",
        "\n",
        "matplotlib.rcParams['figure.figsize'] = (10.0, 8.0)"
      ],
      "execution_count": 0,
      "outputs": []
    },
    {
      "cell_type": "code",
      "metadata": {
        "colab_type": "code",
        "id": "Wq3kt-CcdoPu",
        "colab": {}
      },
      "source": [
        "# set random seeds for more reproducible results\n",
        "from numpy.random import seed\n",
        "seed(42)\n",
        "from tensorflow import set_random_seed\n",
        "set_random_seed(43)"
      ],
      "execution_count": 0,
      "outputs": []
    },
    {
      "cell_type": "code",
      "metadata": {
        "colab_type": "code",
        "id": "OFIQLJfAdoP4",
        "colab": {}
      },
      "source": [
        "# load dataset\n",
        "(x_train, y_train), (x_test, y_test) = mnist.load_data()\n",
        "#(x_train, y_train), (x_test, y_test) = cifar10.load_data()\n",
        "print(x_train.shape, y_train.shape)\n",
        "gray = False\n",
        "if len(x_train.shape)==4 and gray:\n",
        "    x_train = np.mean(x_train, axis=-1, keepdims=True)\n",
        "    x_test = np.mean(x_test, axis=-1, keepdims=True)\n",
        "if len(x_train.shape)==3:\n",
        "    x_train = np.expand_dims(x_train, axis=-1)\n",
        "    x_test = np.expand_dims(x_test, axis=-1)\n",
        "train_size = len(y_train)\n",
        "test_size = len(y_test)\n",
        "xdim = x_train.shape[1]\n",
        "ydim = x_train.shape[2]\n",
        "cdim = x_train.shape[3]\n",
        "print(x_train.dtype, y_train.dtype)"
      ],
      "execution_count": 0,
      "outputs": []
    },
    {
      "cell_type": "code",
      "metadata": {
        "colab_type": "code",
        "id": "xOR0rcAvdoQD",
        "colab": {}
      },
      "source": [
        "print(x_train[0])\n",
        "print(y_train[0])\n",
        "if gray or x_train.shape[3]==1:\n",
        "    plt.imshow(x_train[0][..., 0], cmap='gray')\n",
        "else:\n",
        "    plt.imshow(x_train[0])"
      ],
      "execution_count": 0,
      "outputs": []
    },
    {
      "cell_type": "code",
      "metadata": {
        "colab_type": "code",
        "id": "aByrOryzdoQL",
        "colab": {}
      },
      "source": [
        "print(np.min(x_train), np.max(x_train), np.median(x_train))\n",
        "print(np.unique(y_train, return_counts=True))\n",
        "print(np.unique(y_test, return_counts=True))"
      ],
      "execution_count": 0,
      "outputs": []
    },
    {
      "cell_type": "code",
      "metadata": {
        "colab_type": "code",
        "id": "GW4FUMYt1Ng3",
        "colab": {}
      },
      "source": [
        "x_train = np.asarray([x for x,y in zip(x_train,y_train) if y in (2,3,5,6,8)])\n",
        "def trans(y):\n",
        "  if y==2:\n",
        "    return 0\n",
        "  if y==3:\n",
        "    return 1\n",
        "  if y==5:\n",
        "    return 2\n",
        "  if y==6:\n",
        "    return 3\n",
        "  if y==8:\n",
        "    return 4\n",
        "y_train = np.asarray([trans(y) for y in y_train if y in (2,3,5,6,8)])"
      ],
      "execution_count": 0,
      "outputs": []
    },
    {
      "cell_type": "code",
      "metadata": {
        "colab_type": "code",
        "id": "3hwaeIVS1N3u",
        "colab": {}
      },
      "source": [
        "print(np.unique(y_train, return_counts=True))\n"
      ],
      "execution_count": 0,
      "outputs": []
    },
    {
      "cell_type": "code",
      "metadata": {
        "colab_type": "code",
        "id": "3OSVDe_sdoQR",
        "colab": {}
      },
      "source": [
        "n_classes = len(np.unique(y_train))\n",
        "print(n_classes)\n",
        "x_train, y_train = shuffle(x_train, y_train, random_state=44)\n",
        "x_train = x_train/255\n",
        "x_test = x_test/255\n",
        "y_train = to_categorical(y_train, n_classes)"
      ],
      "execution_count": 0,
      "outputs": []
    },
    {
      "cell_type": "code",
      "metadata": {
        "colab_type": "code",
        "id": "mgy7JjGgdoQd",
        "colab": {}
      },
      "source": [
        "def get_model(bn):\n",
        "    inputs = Input(shape=(xdim, ydim, cdim))\n",
        "    f = Conv2D(filters=32, kernel_size=3, activation='relu')(inputs)\n",
        "    if bn:\n",
        "        f = BatchNormalization()(f)\n",
        "    f = Conv2D(filters=32, kernel_size=3, activation='relu')(f)\n",
        "    if bn:\n",
        "        f = BatchNormalization()(f)\n",
        "    f = MaxPooling2D()(f)\n",
        "    f = Dropout(0.25)(f)\n",
        "    f = Conv2D(filters=64, kernel_size=3, activation='relu')(f)\n",
        "    if bn:\n",
        "        f = BatchNormalization()(f)\n",
        "    f = Conv2D(filters=64, kernel_size=3, activation='relu')(f)\n",
        "    if bn:\n",
        "        f = BatchNormalization()(f)\n",
        "    f = MaxPooling2D()(f)\n",
        "    f = Dropout(0.25)(f)\n",
        "    f = Flatten()(f)\n",
        "    f = Dense(512, activation='relu', name='embeddings')(f)\n",
        "    f = Dropout(0.5)(f)\n",
        "    f = Dense(n_classes, name='logits')(f)\n",
        "    outputs = Activation('softmax')(f)\n",
        "    return Model(inputs=inputs, outputs=outputs)"
      ],
      "execution_count": 0,
      "outputs": []
    },
    {
      "cell_type": "code",
      "metadata": {
        "colab_type": "code",
        "id": "JTpa8BPedoQ5",
        "colab": {}
      },
      "source": [
        "model = get_model(bn=False)\n",
        "model.compile(optimizer='sgd', loss='categorical_crossentropy', metrics=['accuracy'])\n",
        "history = model.fit(x=x_train, y=y_train, batch_size=64, epochs=100, validation_split=0.2)"
      ],
      "execution_count": 0,
      "outputs": []
    },
    {
      "cell_type": "code",
      "metadata": {
        "colab_type": "code",
        "id": "tzwkn83-doRA",
        "colab": {}
      },
      "source": [
        "plt.plot(history.history['acc'])\n",
        "plt.plot(history.history['val_acc'])\n",
        "plt.title('model accuracy')\n",
        "plt.ylabel('accuracy')\n",
        "plt.xlabel('epoch')\n",
        "plt.legend(['train', 'valid'], loc='upper left')\n",
        "plt.show()\n",
        "# summarize history for loss\n",
        "plt.plot(history.history['loss'])\n",
        "plt.plot(history.history['val_loss'])\n",
        "plt.title('model loss')\n",
        "plt.ylabel('loss')\n",
        "plt.xlabel('epoch')\n",
        "plt.legend(['train', 'valid'], loc='upper left')\n",
        "plt.show()"
      ],
      "execution_count": 0,
      "outputs": []
    },
    {
      "cell_type": "code",
      "metadata": {
        "colab_type": "code",
        "id": "eBEFXIHdM7ts",
        "colab": {}
      },
      "source": [
        "get_logits = Model(inputs=model.input, outputs=model.get_layer('logits').output)"
      ],
      "execution_count": 0,
      "outputs": []
    },
    {
      "cell_type": "code",
      "metadata": {
        "colab_type": "code",
        "id": "lL80uAcIBkp7",
        "colab": {}
      },
      "source": [
        "logits = get_logits.predict(x_test)\n",
        "max_logits = np.max(logits, axis=-1)-np.min(logits, axis=-1)\n",
        "logit_normal = [p for p,y in zip(max_logits, y_test) if y in (2,3,5,6,8)]\n",
        "logit_novel = [p for p,y in zip(max_logits, y_test) if y==4]\n",
        "plt.hist(logit_normal, 20, density=True, alpha=0.5, label='normal')\n",
        "plt.hist(logit_novel, 20, density=True, alpha=0.5, label='novel')"
      ],
      "execution_count": 0,
      "outputs": []
    },
    {
      "cell_type": "code",
      "metadata": {
        "id": "mKVvxFwWRmFj",
        "colab_type": "code",
        "colab": {}
      },
      "source": [
        "from sklearn.manifold import TSNE\n",
        "tsne = TSNE(n_components=2, init='pca')\n",
        "\n",
        "x_normal = np.asarray([x for x,y in zip(x_test,y_test) if y in (2,3,5,6,8)])\n",
        "x_novel = np.asarray([x for x,y in zip(x_test,y_test) if y==4])\n",
        "\n",
        "get_emb = Model(inputs=model.input, outputs=model.get_layer('embeddings').output)\n",
        "code_normal = get_emb.predict(x_normal)\n",
        "code_novel = get_emb.predict(x_novel)\n",
        "\n",
        "\n",
        "low = tsne.fit_transform(np.vstack((code_normal,code_novel)))"
      ],
      "execution_count": 0,
      "outputs": []
    },
    {
      "cell_type": "code",
      "metadata": {
        "id": "5dcTkflpRoep",
        "colab_type": "code",
        "colab": {}
      },
      "source": [
        "\n",
        "t_normal = low[:len(code_normal)]\n",
        "t_novel = low[len(code_normal):]\n",
        "fig=plt.figure(figsize=(9,6), dpi= 80, facecolor='w', edgecolor='k')\n",
        "plt.scatter(t_normal[:,0],t_normal[:,1],color='b',s=2)\n",
        "plt.scatter(t_novel[:,0],t_novel[:,1],color='r',alpha=0.5,s=2)\n",
        "plt.show()"
      ],
      "execution_count": 0,
      "outputs": []
    }
  ]
}