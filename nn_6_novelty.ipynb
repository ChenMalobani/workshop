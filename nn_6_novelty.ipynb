{
 "cells": [
  {
   "cell_type": "markdown",
   "metadata": {},
   "source": [
    "[![Open In Colab](https://colab.research.google.com/assets/colab-badge.svg)](https://colab.research.google.com/github/eyaler/workshop/blob/master/nn_6_novelty.ipynb)"
   ]
  },
  {
   "cell_type": "markdown",
   "metadata": {
    "colab_type": "text",
    "id": "VPL9z9UsfEgd"
   },
   "source": [
    "# 6. Novelty detection\n"
   ]
  },
  {
   "cell_type": "code",
   "execution_count": null,
   "metadata": {
    "colab": {},
    "colab_type": "code",
    "id": "jaJB3RfDdoPl"
   },
   "outputs": [],
   "source": [
    "import numpy as np\n",
    "import matplotlib\n",
    "import matplotlib.pyplot as plt\n",
    "from sklearn.utils import shuffle\n",
    "from keras import Input, Model\n",
    "from keras.layers import Dense, Dropout, Conv2D, MaxPooling2D, Flatten, BatchNormalization, Activation\n",
    "from keras.preprocessing.image import ImageDataGenerator\n",
    "from keras.datasets import mnist, cifar10\n",
    "from keras.utils import to_categorical\n",
    "\n",
    "matplotlib.rcParams['figure.figsize'] = (10.0, 8.0)"
   ]
  },
  {
   "cell_type": "code",
   "execution_count": null,
   "metadata": {
    "colab": {},
    "colab_type": "code",
    "id": "Wq3kt-CcdoPu"
   },
   "outputs": [],
   "source": [
    "# set random seeds for more reproducible results\n",
    "from numpy.random import seed\n",
    "seed(42)\n",
    "from tensorflow import set_random_seed\n",
    "set_random_seed(43)"
   ]
  },
  {
   "cell_type": "code",
   "execution_count": null,
   "metadata": {
    "colab": {
     "base_uri": "https://localhost:8080/",
     "height": 56
    },
    "colab_type": "code",
    "executionInfo": {
     "elapsed": 2504,
     "status": "ok",
     "timestamp": 1555235117338,
     "user": {
      "displayName": "Eyal Gruss",
      "photoUrl": "https://lh4.googleusercontent.com/-u09YaZrQAqY/AAAAAAAAAAI/AAAAAAAAC64/Edn8Phw0CRs/s64/photo.jpg",
      "userId": "10806915125759667398"
     },
     "user_tz": -180
    },
    "id": "OFIQLJfAdoP4",
    "outputId": "ad68cbca-0402-4114-ed5f-b413c9f7e3eb"
   },
   "outputs": [],
   "source": [
    "# load dataset\n",
    "#(x_train, y_train), (x_test, y_test) = mnist.load_data()\n",
    "(x_train, y_train), (x_test, y_test) = cifar10.load_data()\n",
    "print(x_train.shape, y_train.shape)\n",
    "gray = False\n",
    "if len(x_train.shape)==4 and gray:\n",
    "    x_train = np.mean(x_train, axis=-1, keepdims=True)\n",
    "    x_test = np.mean(x_test, axis=-1, keepdims=True)\n",
    "if len(x_train.shape)==3:\n",
    "    x_train = np.expand_dims(x_train, axis=-1)\n",
    "    x_test = np.expand_dims(x_test, axis=-1)\n",
    "train_size = len(y_train)\n",
    "test_size = len(y_test)\n",
    "xdim = x_train.shape[1]\n",
    "ydim = x_train.shape[2]\n",
    "cdim = x_train.shape[3]\n",
    "print(x_train.dtype, y_train.dtype)"
   ]
  },
  {
   "cell_type": "code",
   "execution_count": null,
   "metadata": {
    "colab": {
     "base_uri": "https://localhost:8080/",
     "height": 1450
    },
    "colab_type": "code",
    "executionInfo": {
     "elapsed": 3633,
     "status": "ok",
     "timestamp": 1555235118486,
     "user": {
      "displayName": "Eyal Gruss",
      "photoUrl": "https://lh4.googleusercontent.com/-u09YaZrQAqY/AAAAAAAAAAI/AAAAAAAAC64/Edn8Phw0CRs/s64/photo.jpg",
      "userId": "10806915125759667398"
     },
     "user_tz": -180
    },
    "id": "xOR0rcAvdoQD",
    "outputId": "77c99b28-6318-4055-a7a8-5fafbc770c23"
   },
   "outputs": [],
   "source": [
    "print(x_train[0])\n",
    "print(y_train[0])\n",
    "if gray:\n",
    "    plt.imshow(x_train[0][..., 0], cmap='gray')\n",
    "else:\n",
    "    plt.imshow(x_train[0])"
   ]
  },
  {
   "cell_type": "code",
   "execution_count": null,
   "metadata": {
    "colab": {
     "base_uri": "https://localhost:8080/",
     "height": 75
    },
    "colab_type": "code",
    "executionInfo": {
     "elapsed": 4947,
     "status": "ok",
     "timestamp": 1555235119827,
     "user": {
      "displayName": "Eyal Gruss",
      "photoUrl": "https://lh4.googleusercontent.com/-u09YaZrQAqY/AAAAAAAAAAI/AAAAAAAAC64/Edn8Phw0CRs/s64/photo.jpg",
      "userId": "10806915125759667398"
     },
     "user_tz": -180
    },
    "id": "aByrOryzdoQL",
    "outputId": "e342294f-0886-45d1-d2ea-169e472a7103"
   },
   "outputs": [],
   "source": [
    "print(np.min(x_train), np.max(x_train), np.median(x_train))\n",
    "print(np.unique(y_train, return_counts=True))\n",
    "print(np.unique(y_test, return_counts=True))"
   ]
  },
  {
   "cell_type": "code",
   "execution_count": null,
   "metadata": {
    "colab": {},
    "colab_type": "code",
    "id": "GW4FUMYt1Ng3"
   },
   "outputs": [],
   "source": [
    "x_train = np.asarray([x for x,y in zip(x_train,y_train) if y[0]!=9])\n",
    "y_train = np.asarray([y for y in y_train if y[0]!=9])"
   ]
  },
  {
   "cell_type": "code",
   "execution_count": null,
   "metadata": {
    "colab": {
     "base_uri": "https://localhost:8080/",
     "height": 36
    },
    "colab_type": "code",
    "executionInfo": {
     "elapsed": 5453,
     "status": "ok",
     "timestamp": 1555235120376,
     "user": {
      "displayName": "Eyal Gruss",
      "photoUrl": "https://lh4.googleusercontent.com/-u09YaZrQAqY/AAAAAAAAAAI/AAAAAAAAC64/Edn8Phw0CRs/s64/photo.jpg",
      "userId": "10806915125759667398"
     },
     "user_tz": -180
    },
    "id": "3hwaeIVS1N3u",
    "outputId": "b4ad4d26-f139-45d9-dce9-760a6a7a4d5f"
   },
   "outputs": [],
   "source": [
    "print(np.unique(y_train, return_counts=True))\n"
   ]
  },
  {
   "cell_type": "code",
   "execution_count": null,
   "metadata": {
    "colab": {},
    "colab_type": "code",
    "id": "3OSVDe_sdoQR"
   },
   "outputs": [],
   "source": [
    "n_classes = len(np.unique(y_train))\n",
    "x_train, y_train = shuffle(x_train, y_train, random_state=44)\n",
    "x_train = x_train/255\n",
    "x_test = x_test/255\n",
    "y_train = to_categorical(y_train, n_classes)"
   ]
  },
  {
   "cell_type": "code",
   "execution_count": null,
   "metadata": {
    "colab": {},
    "colab_type": "code",
    "id": "mgy7JjGgdoQd"
   },
   "outputs": [],
   "source": [
    "def get_model(bn):\n",
    "    inputs = Input(shape=(xdim, ydim, cdim))\n",
    "    f = Conv2D(filters=32, kernel_size=3, activation='relu')(inputs)\n",
    "    if bn:\n",
    "        f = BatchNormalization()(f)\n",
    "    f = Conv2D(filters=32, kernel_size=3, activation='relu')(f)\n",
    "    if bn:\n",
    "        f = BatchNormalization()(f)\n",
    "    f = MaxPooling2D()(f)\n",
    "    f = Dropout(0.25)(f)\n",
    "    f = Conv2D(filters=64, kernel_size=3, activation='relu')(f)\n",
    "    if bn:\n",
    "        f = BatchNormalization()(f)\n",
    "    f = Conv2D(filters=64, kernel_size=3, activation='relu')(f)\n",
    "    if bn:\n",
    "        f = BatchNormalization()(f)\n",
    "    f = MaxPooling2D()(f)\n",
    "    f = Dropout(0.25)(f)\n",
    "    f = Flatten()(f)\n",
    "    f = Dense(512, activation='relu')(f)\n",
    "    f = Dropout(0.5)(f)\n",
    "    f = Dense(n_classes, name='logits')(f)\n",
    "    outputs = Activation('softmax')(f)\n",
    "    return Model(inputs=inputs, outputs=outputs)"
   ]
  },
  {
   "cell_type": "code",
   "execution_count": null,
   "metadata": {
    "colab": {
     "base_uri": "https://localhost:8080/",
     "height": 4087
    },
    "colab_type": "code",
    "executionInfo": {
     "elapsed": 811983,
     "status": "ok",
     "timestamp": 1555235926978,
     "user": {
      "displayName": "Eyal Gruss",
      "photoUrl": "https://lh4.googleusercontent.com/-u09YaZrQAqY/AAAAAAAAAAI/AAAAAAAAC64/Edn8Phw0CRs/s64/photo.jpg",
      "userId": "10806915125759667398"
     },
     "user_tz": -180
    },
    "id": "JTpa8BPedoQ5",
    "outputId": "5fd95ff4-0645-466b-ce4d-ae922d3fdf30"
   },
   "outputs": [],
   "source": [
    "model = get_model(bn=False)\n",
    "model.compile(optimizer='sgd', loss='categorical_crossentropy', metrics=['accuracy'])\n",
    "history = model.fit(x=x_train, y=y_train, batch_size=64, epochs=100, validation_split=0.2)"
   ]
  },
  {
   "cell_type": "code",
   "execution_count": null,
   "metadata": {
    "colab": {
     "base_uri": "https://localhost:8080/",
     "height": 1009
    },
    "colab_type": "code",
    "executionInfo": {
     "elapsed": 1844,
     "status": "ok",
     "timestamp": 1555235937399,
     "user": {
      "displayName": "Eyal Gruss",
      "photoUrl": "https://lh4.googleusercontent.com/-u09YaZrQAqY/AAAAAAAAAAI/AAAAAAAAC64/Edn8Phw0CRs/s64/photo.jpg",
      "userId": "10806915125759667398"
     },
     "user_tz": -180
    },
    "id": "tzwkn83-doRA",
    "outputId": "6f1a6959-c8cc-41fa-b9b8-46b69413878d"
   },
   "outputs": [],
   "source": [
    "plt.plot(history.history['acc'])\n",
    "plt.plot(history.history['val_acc'])\n",
    "plt.title('model accuracy')\n",
    "plt.ylabel('accuracy')\n",
    "plt.xlabel('epoch')\n",
    "plt.legend(['train', 'valid'], loc='upper left')\n",
    "plt.show()\n",
    "# summarize history for loss\n",
    "plt.plot(history.history['loss'])\n",
    "plt.plot(history.history['val_loss'])\n",
    "plt.title('model loss')\n",
    "plt.ylabel('loss')\n",
    "plt.xlabel('epoch')\n",
    "plt.legend(['train', 'valid'], loc='upper left')\n",
    "plt.show()"
   ]
  },
  {
   "cell_type": "code",
   "execution_count": null,
   "metadata": {
    "colab": {},
    "colab_type": "code",
    "id": "eBEFXIHdM7ts"
   },
   "outputs": [],
   "source": [
    "get_logits = Model(inputs=model.input, outputs=model.get_layer('logits').output)"
   ]
  },
  {
   "cell_type": "code",
   "execution_count": null,
   "metadata": {
    "colab": {
     "base_uri": "https://localhost:8080/",
     "height": 679
    },
    "colab_type": "code",
    "executionInfo": {
     "elapsed": 2498,
     "status": "ok",
     "timestamp": 1555236883958,
     "user": {
      "displayName": "Eyal Gruss",
      "photoUrl": "https://lh4.googleusercontent.com/-u09YaZrQAqY/AAAAAAAAAAI/AAAAAAAAC64/Edn8Phw0CRs/s64/photo.jpg",
      "userId": "10806915125759667398"
     },
     "user_tz": -180
    },
    "id": "lL80uAcIBkp7",
    "outputId": "07450102-517c-49b4-dc99-383fe8a24642"
   },
   "outputs": [],
   "source": [
    "logits = get_logits.predict(x_test)\n",
    "max_logits = np.max(logits, axis=-1)-np.min(logits, axis=-1)\n",
    "logit_normal = [p for p,y in zip(max_logits, y_test) if y<9]\n",
    "logit_novel = [p for p,y in zip(max_logits, y_test) if y==9]\n",
    "plt.hist(logit_normal, 20, density=True, alpha=0.5, label='normal')\n",
    "plt.hist(logit_novel, 20, density=True, alpha=0.5, label='novel')"
   ]
  }
 ],
 "metadata": {
  "accelerator": "GPU",
  "colab": {
   "collapsed_sections": [],
   "name": "nn_6_novelty.ipynb",
   "provenance": [],
   "version": "0.3.2"
  },
  "kernelspec": {
   "display_name": "Python 3",
   "language": "python",
   "name": "python3"
  },
  "language_info": {
   "codemirror_mode": {
    "name": "ipython",
    "version": 3
   },
   "file_extension": ".py",
   "mimetype": "text/x-python",
   "name": "python",
   "nbconvert_exporter": "python",
   "pygments_lexer": "ipython3",
   "version": "3.6.8"
  }
 },
 "nbformat": 4,
 "nbformat_minor": 1
}
