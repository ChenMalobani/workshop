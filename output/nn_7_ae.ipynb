{
  "nbformat": 4,
  "nbformat_minor": 0,
  "metadata": {
    "accelerator": "GPU",
    "colab": {
      "name": "nn_7_ae",
      "version": "0.3.2",
      "provenance": [],
      "collapsed_sections": []
    },
    "kernelspec": {
      "name": "python3",
      "display_name": "Python 3"
    },
    "language_info": {
      "codemirror_mode": {
        "name": "ipython",
        "version": 3
      },
      "file_extension": ".py",
      "mimetype": "text/x-python",
      "name": "python",
      "nbconvert_exporter": "python",
      "pygments_lexer": "ipython3",
      "version": "3.6.8"
    }
  },
  "cells": [
    {
      "cell_type": "markdown",
      "metadata": {
        "id": "lDvCrqpTBD0C",
        "colab_type": "text"
      },
      "source": [
        "[![Open In Colab](https://colab.research.google.com/assets/colab-badge.svg)](https://colab.research.google.com/github/eyaler/workshop/blob/master/nn_7_ae.ipynb)"
      ]
    },
    {
      "cell_type": "markdown",
      "metadata": {
        "colab_type": "text",
        "id": "VPL9z9UsfEgd"
      },
      "source": [
        "# 7. Autoencoders for image generation and novelty detection"
      ]
    },
    {
      "cell_type": "code",
      "metadata": {
        "colab_type": "code",
        "id": "jaJB3RfDdoPl",
        "colab": {
          "base_uri": "https://localhost:8080/",
          "height": 36
        },
        "outputId": "4d9caa5d-7d9f-48c3-be54-7f372038f1c8"
      },
      "source": [
        "import numpy as np\n",
        "import matplotlib\n",
        "import matplotlib.pyplot as plt\n",
        "from sklearn.utils import shuffle\n",
        "from keras import Input, Model\n",
        "from keras.layers import Dense, Dropout, Conv2D, MaxPooling2D, Flatten, BatchNormalization, UpSampling2D, Reshape\n",
        "from keras.preprocessing.image import ImageDataGenerator\n",
        "from keras.datasets import mnist, cifar10\n",
        "from keras.utils import to_categorical\n",
        "\n",
        "matplotlib.rcParams['figure.figsize'] = (10.0, 8.0)"
      ],
      "execution_count": 1,
      "outputs": [
        {
          "output_type": "stream",
          "text": [
            "Using TensorFlow backend.\n"
          ],
          "name": "stderr"
        }
      ]
    },
    {
      "cell_type": "code",
      "metadata": {
        "colab_type": "code",
        "id": "Wq3kt-CcdoPu",
        "colab": {}
      },
      "source": [
        "# set random seeds for more reproducible results\n",
        "from numpy.random import seed\n",
        "seed(42)\n",
        "from tensorflow import set_random_seed\n",
        "set_random_seed(43)"
      ],
      "execution_count": 0,
      "outputs": []
    },
    {
      "cell_type": "code",
      "metadata": {
        "colab_type": "code",
        "id": "OFIQLJfAdoP4",
        "colab": {
          "base_uri": "https://localhost:8080/",
          "height": 92
        },
        "outputId": "0abce4e2-da7e-4942-ee3a-aa1d3cb112c4"
      },
      "source": [
        "# load dataset\n",
        "(x_train, y_train), (x_test, y_test) = mnist.load_data()\n",
        "#(x_train, y_train), (x_test, y_test) = cifar10.load_data()\n",
        "x_train = np.expand_dims(x_train, axis=-1)\n",
        "x_test = np.expand_dims(x_test, axis=-1)\n",
        "print(x_train.shape, y_train.shape)\n",
        "gray = False\n",
        "train_size = len(y_train)\n",
        "test_size = len(y_test)\n",
        "xdim = x_train.shape[1]\n",
        "ydim = x_train.shape[2]\n",
        "print(x_train.dtype, y_train.dtype)"
      ],
      "execution_count": 3,
      "outputs": [
        {
          "output_type": "stream",
          "text": [
            "Downloading data from https://s3.amazonaws.com/img-datasets/mnist.npz\n",
            "11493376/11490434 [==============================] - 2s 0us/step\n",
            "(60000, 28, 28, 1) (60000,)\n",
            "uint8 uint8\n"
          ],
          "name": "stdout"
        }
      ]
    },
    {
      "cell_type": "code",
      "metadata": {
        "colab_type": "code",
        "id": "xOR0rcAvdoQD",
        "colab": {
          "base_uri": "https://localhost:8080/",
          "height": 505
        },
        "outputId": "47cfcca1-c1a4-434e-fea1-7967bc7675ef"
      },
      "source": [
        "plt.imshow(x_train[0,...,0], cmap='gray')"
      ],
      "execution_count": 4,
      "outputs": [
        {
          "output_type": "execute_result",
          "data": {
            "text/plain": [
              "<matplotlib.image.AxesImage at 0x7f70bcc1ec88>"
            ]
          },
          "metadata": {
            "tags": []
          },
          "execution_count": 4
        },
        {
          "output_type": "display_data",
          "data": {
            "image/png": "[encoded data removed]",
            "text/plain": [
              "<Figure size 720x576 with 1 Axes>"
            ]
          },
          "metadata": {
            "tags": []
          }
        }
      ]
    },
    {
      "cell_type": "code",
      "metadata": {
        "colab_type": "code",
        "id": "aByrOryzdoQL",
        "colab": {
          "base_uri": "https://localhost:8080/",
          "height": 73
        },
        "outputId": "eaf66d24-dc55-4239-f204-f4a0daabcd29"
      },
      "source": [
        "print(np.min(x_train), np.max(x_train), np.median(x_train))\n",
        "print(np.unique(y_train, return_counts=True))\n",
        "print(np.unique(y_test, return_counts=True))"
      ],
      "execution_count": 5,
      "outputs": [
        {
          "output_type": "stream",
          "text": [
            "0 255 0.0\n",
            "(array([0, 1, 2, 3, 4, 5, 6, 7, 8, 9], dtype=uint8), array([5923, 6742, 5958, 6131, 5842, 5421, 5918, 6265, 5851, 5949]))\n",
            "(array([0, 1, 2, 3, 4, 5, 6, 7, 8, 9], dtype=uint8), array([ 980, 1135, 1032, 1010,  982,  892,  958, 1028,  974, 1009]))\n"
          ],
          "name": "stdout"
        }
      ]
    },
    {
      "cell_type": "code",
      "metadata": {
        "colab_type": "code",
        "id": "9t6k8cTn8t7S",
        "colab": {}
      },
      "source": [
        "x_train = np.asarray([x for x,y in zip(x_train,y_train) if y in (2,3,5,6,8)])\n"
      ],
      "execution_count": 0,
      "outputs": []
    },
    {
      "cell_type": "code",
      "metadata": {
        "colab_type": "code",
        "id": "3OSVDe_sdoQR",
        "colab": {}
      },
      "source": [
        "n_classes = len(np.unique(y_train))\n",
        "x_train = shuffle(x_train, random_state=44)\n",
        "x_train = x_train/255\n",
        "x_test = x_test/255\n"
      ],
      "execution_count": 0,
      "outputs": []
    },
    {
      "cell_type": "code",
      "metadata": {
        "colab_type": "code",
        "id": "mgy7JjGgdoQd",
        "colab": {}
      },
      "source": [
        "def get_model():\n",
        "    inputs = Input(shape=(xdim, ydim,1))\n",
        "    f = Conv2D(filters=8, kernel_size=3, activation='relu', padding='same')(inputs)\n",
        "    f = MaxPooling2D()(f)\n",
        "    f = Conv2D(filters=8, kernel_size=3, activation='relu', padding='same')(f)\n",
        "    f = MaxPooling2D()(f)\n",
        "    f = Conv2D(filters=2, kernel_size=3, activation='relu', padding='same')(f)\n",
        "    encoded = MaxPooling2D(padding='same')(f)\n",
        "    \n",
        "    f = Conv2D(filters=2, kernel_size=3, activation='relu', padding='same')(encoded)\n",
        "    f = UpSampling2D()(f)\n",
        "    f = Conv2D(filters=8, kernel_size=3, activation='relu', padding='same')(f)\n",
        "    f = UpSampling2D()(f)\n",
        "    f = Conv2D(filters=8, kernel_size=3, activation='relu')(f)\n",
        "    f = UpSampling2D()(f)\n",
        "    outputs = Conv2D(filters=1, kernel_size=3, activation='sigmoid', padding='same')(f)\n",
        "    \n",
        "    return Model(inputs=inputs, outputs=outputs), Model(inputs=inputs, outputs=encoded)"
      ],
      "execution_count": 0,
      "outputs": []
    },
    {
      "cell_type": "code",
      "metadata": {
        "colab_type": "code",
        "id": "3JaZWamydoQk",
        "colab": {
          "base_uri": "https://localhost:8080/",
          "height": 1000
        },
        "outputId": "9cafa520-2527-4237-c249-69f3d3d50218"
      },
      "source": [
        "model, encoder = get_model()\n",
        "\n",
        "print(model.summary())\n",
        "model.compile(optimizer='adadelta', loss='binary_crossentropy')\n",
        "history = model.fit(x=x_train, y=x_train, batch_size=512, epochs=300, validation_split=0.2)"
      ],
      "execution_count": 9,
      "outputs": [
        {
          "output_type": "stream",
          "text": [
            "WARNING:tensorflow:From /usr/local/lib/python3.6/dist-packages/keras/backend/tensorflow_backend.py:66: The name tf.get_default_graph is deprecated. Please use tf.compat.v1.get_default_graph instead.\n",
            "\n",
            "WARNING:tensorflow:From /usr/local/lib/python3.6/dist-packages/keras/backend/tensorflow_backend.py:541: The name tf.placeholder is deprecated. Please use tf.compat.v1.placeholder instead.\n",
            "\n",
            "WARNING:tensorflow:From /usr/local/lib/python3.6/dist-packages/keras/backend/tensorflow_backend.py:4432: The name tf.random_uniform is deprecated. Please use tf.random.uniform instead.\n",
            "\n",
            "WARNING:tensorflow:From /usr/local/lib/python3.6/dist-packages/keras/backend/tensorflow_backend.py:4267: The name tf.nn.max_pool is deprecated. Please use tf.nn.max_pool2d instead.\n",
            "\n",
            "WARNING:tensorflow:From /usr/local/lib/python3.6/dist-packages/keras/backend/tensorflow_backend.py:2239: The name tf.image.resize_nearest_neighbor is deprecated. Please use tf.compat.v1.image.resize_nearest_neighbor instead.\n",
            "\n",
            "Model: \"model_1\"\n",
            "_________________________________________________________________\n",
            "Layer (type)                 Output Shape              Param #   \n",
            "=================================================================\n",
            "input_1 (InputLayer)         (None, 28, 28, 1)         0         \n",
            "_________________________________________________________________\n",
            "conv2d_1 (Conv2D)            (None, 28, 28, 8)         80        \n",
            "_________________________________________________________________\n",
            "max_pooling2d_1 (MaxPooling2 (None, 14, 14, 8)         0         \n",
            "_________________________________________________________________\n",
            "conv2d_2 (Conv2D)            (None, 14, 14, 8)         584       \n",
            "_________________________________________________________________\n",
            "max_pooling2d_2 (MaxPooling2 (None, 7, 7, 8)           0         \n",
            "_________________________________________________________________\n",
            "conv2d_3 (Conv2D)            (None, 7, 7, 2)           146       \n",
            "_________________________________________________________________\n",
            "max_pooling2d_3 (MaxPooling2 (None, 4, 4, 2)           0         \n",
            "_________________________________________________________________\n",
            "conv2d_4 (Conv2D)            (None, 4, 4, 2)           38        \n",
            "_________________________________________________________________\n",
            "up_sampling2d_1 (UpSampling2 (None, 8, 8, 2)           0         \n",
            "_________________________________________________________________\n",
            "conv2d_5 (Conv2D)            (None, 8, 8, 8)           152       \n",
            "_________________________________________________________________\n",
            "up_sampling2d_2 (UpSampling2 (None, 16, 16, 8)         0         \n",
            "_________________________________________________________________\n",
            "conv2d_6 (Conv2D)            (None, 14, 14, 8)         584       \n",
            "_________________________________________________________________\n",
            "up_sampling2d_3 (UpSampling2 (None, 28, 28, 8)         0         \n",
            "_________________________________________________________________\n",
            "conv2d_7 (Conv2D)            (None, 28, 28, 1)         73        \n",
            "=================================================================\n",
            "Total params: 1,657\n",
            "Trainable params: 1,657\n",
            "Non-trainable params: 0\n",
            "_________________________________________________________________\n",
            "None\n",
            "WARNING:tensorflow:From /usr/local/lib/python3.6/dist-packages/keras/optimizers.py:793: The name tf.train.Optimizer is deprecated. Please use tf.compat.v1.train.Optimizer instead.\n",
            "\n",
            "WARNING:tensorflow:From /usr/local/lib/python3.6/dist-packages/keras/backend/tensorflow_backend.py:3657: The name tf.log is deprecated. Please use tf.math.log instead.\n",
            "\n",
            "WARNING:tensorflow:From /usr/local/lib/python3.6/dist-packages/tensorflow/python/ops/nn_impl.py:180: add_dispatch_support.<locals>.wrapper (from tensorflow.python.ops.array_ops) is deprecated and will be removed in a future version.\n",
            "Instructions for updating:\n",
            "Use tf.where in 2.0, which has the same broadcast rule as np.where\n",
            "WARNING:tensorflow:From /usr/local/lib/python3.6/dist-packages/keras/backend/tensorflow_backend.py:1033: The name tf.assign_add is deprecated. Please use tf.compat.v1.assign_add instead.\n",
            "\n",
            "Train on 23423 samples, validate on 5856 samples\n",
            "Epoch 1/300\n",
            "23423/23423 [==============================] - 7s 305us/step - loss: 0.4435 - val_loss: 0.3102\n",
            "Epoch 2/300\n",
            "23423/23423 [==============================] - 1s 27us/step - loss: 0.2936 - val_loss: 0.2809\n",
            "Epoch 3/300\n",
            "23423/23423 [==============================] - 1s 26us/step - loss: 0.2637 - val_loss: 0.2476\n",
            "Epoch 4/300\n",
            "23423/23423 [==============================] - 1s 26us/step - loss: 0.2444 - val_loss: 0.2379\n",
            "Epoch 5/300\n",
            "23423/23423 [==============================] - 1s 26us/step - loss: 0.2367 - val_loss: 0.2366\n",
            "Epoch 6/300\n",
            "23423/23423 [==============================] - 1s 26us/step - loss: 0.2320 - val_loss: 0.2309\n",
            "Epoch 7/300\n",
            "23423/23423 [==============================] - 1s 27us/step - loss: 0.2281 - val_loss: 0.2237\n",
            "Epoch 8/300\n",
            "23423/23423 [==============================] - 1s 27us/step - loss: 0.2246 - val_loss: 0.2240\n",
            "Epoch 9/300\n",
            "23423/23423 [==============================] - 1s 27us/step - loss: 0.2220 - val_loss: 0.2218\n",
            "Epoch 10/300\n",
            "23423/23423 [==============================] - 1s 27us/step - loss: 0.2195 - val_loss: 0.2184\n",
            "Epoch 11/300\n",
            "23423/23423 [==============================] - 1s 27us/step - loss: 0.2166 - val_loss: 0.2157\n",
            "Epoch 12/300\n",
            "23423/23423 [==============================] - 1s 27us/step - loss: 0.2144 - val_loss: 0.2148\n",
            "Epoch 13/300\n",
            "23423/23423 [==============================] - 1s 27us/step - loss: 0.2115 - val_loss: 0.2118\n",
            "Epoch 14/300\n",
            "23423/23423 [==============================] - 1s 27us/step - loss: 0.2094 - val_loss: 0.2063\n",
            "Epoch 15/300\n",
            "23423/23423 [==============================] - 1s 27us/step - loss: 0.2062 - val_loss: 0.2060\n",
            "Epoch 16/300\n",
            "23423/23423 [==============================] - 1s 27us/step - loss: 0.2042 - val_loss: 0.2034\n",
            "Epoch 17/300\n",
            "23423/23423 [==============================] - 1s 26us/step - loss: 0.2022 - val_loss: 0.2025\n",
            "Epoch 18/300\n",
            "23423/23423 [==============================] - 1s 26us/step - loss: 0.2007 - val_loss: 0.2000\n",
            "Epoch 19/300\n",
            "23423/23423 [==============================] - 1s 26us/step - loss: 0.1985 - val_loss: 0.2018\n",
            "Epoch 20/300\n",
            "23423/23423 [==============================] - 1s 27us/step - loss: 0.1978 - val_loss: 0.1992\n",
            "Epoch 21/300\n",
            "23423/23423 [==============================] - 1s 27us/step - loss: 0.1963 - val_loss: 0.1968\n",
            "Epoch 22/300\n",
            "23423/23423 [==============================] - 1s 27us/step - loss: 0.1952 - val_loss: 0.1949\n",
            "Epoch 23/300\n",
            "23423/23423 [==============================] - 1s 26us/step - loss: 0.1942 - val_loss: 0.1955\n",
            "Epoch 24/300\n",
            "23423/23423 [==============================] - 1s 27us/step - loss: 0.1930 - val_loss: 0.1933\n",
            "Epoch 25/300\n",
            "23423/23423 [==============================] - 1s 29us/step - loss: 0.1918 - val_loss: 0.1913\n",
            "Epoch 26/300\n",
            "23423/23423 [==============================] - 1s 26us/step - loss: 0.1910 - val_loss: 0.1909\n",
            "Epoch 27/300\n",
            "23423/23423 [==============================] - 1s 26us/step - loss: 0.1902 - val_loss: 0.1920\n",
            "Epoch 28/300\n",
            "23423/23423 [==============================] - 1s 27us/step - loss: 0.1892 - val_loss: 0.1900\n",
            "Epoch 29/300\n",
            "23423/23423 [==============================] - 1s 27us/step - loss: 0.1885 - val_loss: 0.1896\n",
            "Epoch 30/300\n",
            "23423/23423 [==============================] - 1s 26us/step - loss: 0.1879 - val_loss: 0.1878\n",
            "Epoch 31/300\n",
            "23423/23423 [==============================] - 1s 26us/step - loss: 0.1871 - val_loss: 0.1877\n",
            "Epoch 32/300\n",
            "23423/23423 [==============================] - 1s 27us/step - loss: 0.1863 - val_loss: 0.1860\n",
            "Epoch 33/300\n",
            "23423/23423 [==============================] - 1s 26us/step - loss: 0.1851 - val_loss: 0.1879\n",
            "Epoch 34/300\n",
            "23423/23423 [==============================] - 1s 27us/step - loss: 0.1852 - val_loss: 0.1882\n",
            "Epoch 35/300\n",
            "23423/23423 [==============================] - 1s 27us/step - loss: 0.1847 - val_loss: 0.1856\n",
            "Epoch 36/300\n",
            "23423/23423 [==============================] - 1s 27us/step - loss: 0.1834 - val_loss: 0.1841\n",
            "Epoch 37/300\n",
            "23423/23423 [==============================] - 1s 26us/step - loss: 0.1836 - val_loss: 0.1836\n",
            "Epoch 38/300\n",
            "23423/23423 [==============================] - 1s 27us/step - loss: 0.1825 - val_loss: 0.1829\n",
            "Epoch 39/300\n",
            "23423/23423 [==============================] - 1s 27us/step - loss: 0.1825 - val_loss: 0.1828\n",
            "Epoch 40/300\n",
            "23423/23423 [==============================] - 1s 27us/step - loss: 0.1820 - val_loss: 0.1828\n",
            "Epoch 41/300\n",
            "23423/23423 [==============================] - 1s 26us/step - loss: 0.1812 - val_loss: 0.1824\n",
            "Epoch 42/300\n",
            "23423/23423 [==============================] - 1s 27us/step - loss: 0.1810 - val_loss: 0.1810\n",
            "Epoch 43/300\n",
            "23423/23423 [==============================] - 1s 27us/step - loss: 0.1808 - val_loss: 0.1809\n",
            "Epoch 44/300\n",
            "23423/23423 [==============================] - 1s 27us/step - loss: 0.1803 - val_loss: 0.1799\n",
            "Epoch 45/300\n",
            "23423/23423 [==============================] - 1s 26us/step - loss: 0.1795 - val_loss: 0.1798\n",
            "Epoch 46/300\n",
            "23423/23423 [==============================] - 1s 27us/step - loss: 0.1794 - val_loss: 0.1800\n",
            "Epoch 47/300\n",
            "23423/23423 [==============================] - 1s 26us/step - loss: 0.1784 - val_loss: 0.1799\n",
            "Epoch 48/300\n",
            "23423/23423 [==============================] - 1s 27us/step - loss: 0.1788 - val_loss: 0.1795\n",
            "Epoch 49/300\n",
            "23423/23423 [==============================] - 1s 26us/step - loss: 0.1783 - val_loss: 0.1788\n",
            "Epoch 50/300\n",
            "23423/23423 [==============================] - 1s 27us/step - loss: 0.1778 - val_loss: 0.1784\n",
            "Epoch 51/300\n",
            "23423/23423 [==============================] - 1s 26us/step - loss: 0.1775 - val_loss: 0.1770\n",
            "Epoch 52/300\n",
            "23423/23423 [==============================] - 1s 26us/step - loss: 0.1774 - val_loss: 0.1784\n",
            "Epoch 53/300\n",
            "23423/23423 [==============================] - 1s 27us/step - loss: 0.1769 - val_loss: 0.1774\n",
            "Epoch 54/300\n",
            "23423/23423 [==============================] - 1s 27us/step - loss: 0.1768 - val_loss: 0.1762\n",
            "Epoch 55/300\n",
            "23423/23423 [==============================] - 1s 27us/step - loss: 0.1761 - val_loss: 0.1782\n",
            "Epoch 56/300\n",
            "23423/23423 [==============================] - 1s 27us/step - loss: 0.1763 - val_loss: 0.1764\n",
            "Epoch 57/300\n",
            "23423/23423 [==============================] - 1s 26us/step - loss: 0.1759 - val_loss: 0.1753\n",
            "Epoch 58/300\n",
            "23423/23423 [==============================] - 1s 27us/step - loss: 0.1755 - val_loss: 0.1776\n",
            "Epoch 59/300\n",
            "23423/23423 [==============================] - 1s 27us/step - loss: 0.1746 - val_loss: 0.1752\n",
            "Epoch 60/300\n",
            "23423/23423 [==============================] - 1s 26us/step - loss: 0.1752 - val_loss: 0.1748\n",
            "Epoch 61/300\n",
            "23423/23423 [==============================] - 1s 27us/step - loss: 0.1747 - val_loss: 0.1758\n",
            "Epoch 62/300\n",
            "23423/23423 [==============================] - 1s 26us/step - loss: 0.1741 - val_loss: 0.1742\n",
            "Epoch 63/300\n",
            "23423/23423 [==============================] - 1s 27us/step - loss: 0.1737 - val_loss: 0.1767\n",
            "Epoch 64/300\n",
            "23423/23423 [==============================] - 1s 27us/step - loss: 0.1741 - val_loss: 0.1772\n",
            "Epoch 65/300\n",
            "23423/23423 [==============================] - 1s 27us/step - loss: 0.1733 - val_loss: 0.1758\n",
            "Epoch 66/300\n",
            "23423/23423 [==============================] - 1s 27us/step - loss: 0.1729 - val_loss: 0.1777\n",
            "Epoch 67/300\n",
            "23423/23423 [==============================] - 1s 26us/step - loss: 0.1730 - val_loss: 0.1748\n",
            "Epoch 68/300\n",
            "23423/23423 [==============================] - 1s 27us/step - loss: 0.1730 - val_loss: 0.1725\n",
            "Epoch 69/300\n",
            "23423/23423 [==============================] - 1s 26us/step - loss: 0.1722 - val_loss: 0.1726\n",
            "Epoch 70/300\n",
            "23423/23423 [==============================] - 1s 26us/step - loss: 0.1724 - val_loss: 0.1735\n",
            "Epoch 71/300\n",
            "23423/23423 [==============================] - 1s 27us/step - loss: 0.1724 - val_loss: 0.1726\n",
            "Epoch 72/300\n",
            "23423/23423 [==============================] - 1s 27us/step - loss: 0.1722 - val_loss: 0.1720\n",
            "Epoch 73/300\n",
            "23423/23423 [==============================] - 1s 27us/step - loss: 0.1718 - val_loss: 0.1734\n",
            "Epoch 74/300\n",
            "23423/23423 [==============================] - 1s 27us/step - loss: 0.1717 - val_loss: 0.1699\n",
            "Epoch 75/300\n",
            "23423/23423 [==============================] - 1s 27us/step - loss: 0.1710 - val_loss: 0.1706\n",
            "Epoch 76/300\n",
            "23423/23423 [==============================] - 1s 27us/step - loss: 0.1708 - val_loss: 0.1733\n",
            "Epoch 77/300\n",
            "23423/23423 [==============================] - 1s 26us/step - loss: 0.1704 - val_loss: 0.1700\n",
            "Epoch 78/300\n",
            "23423/23423 [==============================] - 1s 27us/step - loss: 0.1706 - val_loss: 0.1738\n",
            "Epoch 79/300\n",
            "23423/23423 [==============================] - 1s 27us/step - loss: 0.1707 - val_loss: 0.1716\n",
            "Epoch 80/300\n",
            "23423/23423 [==============================] - 1s 26us/step - loss: 0.1701 - val_loss: 0.1722\n",
            "Epoch 81/300\n",
            "23423/23423 [==============================] - 1s 26us/step - loss: 0.1706 - val_loss: 0.1718\n",
            "Epoch 82/300\n",
            "23423/23423 [==============================] - 1s 26us/step - loss: 0.1701 - val_loss: 0.1701\n",
            "Epoch 83/300\n",
            "23423/23423 [==============================] - 1s 27us/step - loss: 0.1697 - val_loss: 0.1684\n",
            "Epoch 84/300\n",
            "23423/23423 [==============================] - 1s 27us/step - loss: 0.1680 - val_loss: 0.1717\n",
            "Epoch 85/300\n",
            "23423/23423 [==============================] - 1s 26us/step - loss: 0.1692 - val_loss: 0.1704\n",
            "Epoch 86/300\n",
            "23423/23423 [==============================] - 1s 26us/step - loss: 0.1688 - val_loss: 0.1696\n",
            "Epoch 87/300\n",
            "23423/23423 [==============================] - 1s 26us/step - loss: 0.1688 - val_loss: 0.1681\n",
            "Epoch 88/300\n",
            "23423/23423 [==============================] - 1s 27us/step - loss: 0.1688 - val_loss: 0.1688\n",
            "Epoch 89/300\n",
            "23423/23423 [==============================] - 1s 26us/step - loss: 0.1689 - val_loss: 0.1697\n",
            "Epoch 90/300\n",
            "23423/23423 [==============================] - 1s 26us/step - loss: 0.1686 - val_loss: 0.1681\n",
            "Epoch 91/300\n",
            "23423/23423 [==============================] - 1s 27us/step - loss: 0.1686 - val_loss: 0.1689\n",
            "Epoch 92/300\n",
            "23423/23423 [==============================] - 1s 26us/step - loss: 0.1683 - val_loss: 0.1686\n",
            "Epoch 93/300\n",
            "23423/23423 [==============================] - 1s 27us/step - loss: 0.1684 - val_loss: 0.1676\n",
            "Epoch 94/300\n",
            "23423/23423 [==============================] - 1s 26us/step - loss: 0.1687 - val_loss: 0.1690\n",
            "Epoch 95/300\n",
            "23423/23423 [==============================] - 1s 26us/step - loss: 0.1679 - val_loss: 0.1683\n",
            "Epoch 96/300\n",
            "23423/23423 [==============================] - 1s 26us/step - loss: 0.1678 - val_loss: 0.1681\n",
            "Epoch 97/300\n",
            "23423/23423 [==============================] - 1s 26us/step - loss: 0.1681 - val_loss: 0.1691\n",
            "Epoch 98/300\n",
            "23423/23423 [==============================] - 1s 27us/step - loss: 0.1675 - val_loss: 0.1687\n",
            "Epoch 99/300\n",
            "23423/23423 [==============================] - 1s 26us/step - loss: 0.1679 - val_loss: 0.1679\n",
            "Epoch 100/300\n",
            "23423/23423 [==============================] - 1s 26us/step - loss: 0.1673 - val_loss: 0.1678\n",
            "Epoch 101/300\n",
            "23423/23423 [==============================] - 1s 27us/step - loss: 0.1676 - val_loss: 0.1654\n",
            "Epoch 102/300\n",
            "23423/23423 [==============================] - 1s 26us/step - loss: 0.1673 - val_loss: 0.1677\n",
            "Epoch 103/300\n",
            "23423/23423 [==============================] - 1s 27us/step - loss: 0.1669 - val_loss: 0.1665\n",
            "Epoch 104/300\n",
            "23423/23423 [==============================] - 1s 27us/step - loss: 0.1667 - val_loss: 0.1669\n",
            "Epoch 105/300\n",
            "23423/23423 [==============================] - 1s 26us/step - loss: 0.1668 - val_loss: 0.1678\n",
            "Epoch 106/300\n",
            "23423/23423 [==============================] - 1s 26us/step - loss: 0.1662 - val_loss: 0.1672\n",
            "Epoch 107/300\n",
            "23423/23423 [==============================] - 1s 26us/step - loss: 0.1667 - val_loss: 0.1687\n",
            "Epoch 108/300\n",
            "23423/23423 [==============================] - 1s 26us/step - loss: 0.1670 - val_loss: 0.1672\n",
            "Epoch 109/300\n",
            "23423/23423 [==============================] - 1s 27us/step - loss: 0.1668 - val_loss: 0.1682\n",
            "Epoch 110/300\n",
            "23423/23423 [==============================] - 1s 26us/step - loss: 0.1667 - val_loss: 0.1679\n",
            "Epoch 111/300\n",
            "23423/23423 [==============================] - 1s 26us/step - loss: 0.1666 - val_loss: 0.1666\n",
            "Epoch 112/300\n",
            "23423/23423 [==============================] - 1s 26us/step - loss: 0.1662 - val_loss: 0.1664\n",
            "Epoch 113/300\n",
            "23423/23423 [==============================] - 1s 26us/step - loss: 0.1658 - val_loss: 0.1673\n",
            "Epoch 114/300\n",
            "23423/23423 [==============================] - 1s 26us/step - loss: 0.1658 - val_loss: 0.1656\n",
            "Epoch 115/300\n",
            "23423/23423 [==============================] - 1s 26us/step - loss: 0.1664 - val_loss: 0.1658\n",
            "Epoch 116/300\n",
            "23423/23423 [==============================] - 1s 26us/step - loss: 0.1653 - val_loss: 0.1657\n",
            "Epoch 117/300\n",
            "23423/23423 [==============================] - 1s 26us/step - loss: 0.1659 - val_loss: 0.1669\n",
            "Epoch 118/300\n",
            "23423/23423 [==============================] - 1s 27us/step - loss: 0.1655 - val_loss: 0.1648\n",
            "Epoch 119/300\n",
            "23423/23423 [==============================] - 1s 26us/step - loss: 0.1656 - val_loss: 0.1653\n",
            "Epoch 120/300\n",
            "23423/23423 [==============================] - 1s 26us/step - loss: 0.1655 - val_loss: 0.1652\n",
            "Epoch 121/300\n",
            "23423/23423 [==============================] - 1s 26us/step - loss: 0.1649 - val_loss: 0.1652\n",
            "Epoch 122/300\n",
            "23423/23423 [==============================] - 1s 26us/step - loss: 0.1652 - val_loss: 0.1655\n",
            "Epoch 123/300\n",
            "23423/23423 [==============================] - 1s 27us/step - loss: 0.1651 - val_loss: 0.1662\n",
            "Epoch 124/300\n",
            "23423/23423 [==============================] - 1s 27us/step - loss: 0.1651 - val_loss: 0.1645\n",
            "Epoch 125/300\n",
            "23423/23423 [==============================] - 1s 27us/step - loss: 0.1651 - val_loss: 0.1661\n",
            "Epoch 126/300\n",
            "23423/23423 [==============================] - 1s 27us/step - loss: 0.1650 - val_loss: 0.1673\n",
            "Epoch 127/300\n",
            "23423/23423 [==============================] - 1s 27us/step - loss: 0.1644 - val_loss: 0.1652\n",
            "Epoch 128/300\n",
            "23423/23423 [==============================] - 1s 27us/step - loss: 0.1646 - val_loss: 0.1652\n",
            "Epoch 129/300\n",
            "23423/23423 [==============================] - 1s 27us/step - loss: 0.1640 - val_loss: 0.1642\n",
            "Epoch 130/300\n",
            "23423/23423 [==============================] - 1s 27us/step - loss: 0.1647 - val_loss: 0.1656\n",
            "Epoch 131/300\n",
            "23423/23423 [==============================] - 1s 27us/step - loss: 0.1643 - val_loss: 0.1660\n",
            "Epoch 132/300\n",
            "23423/23423 [==============================] - 1s 27us/step - loss: 0.1640 - val_loss: 0.1640\n",
            "Epoch 133/300\n",
            "23423/23423 [==============================] - 1s 27us/step - loss: 0.1644 - val_loss: 0.1662\n",
            "Epoch 134/300\n",
            "23423/23423 [==============================] - 1s 27us/step - loss: 0.1640 - val_loss: 0.1647\n",
            "Epoch 135/300\n",
            "23423/23423 [==============================] - 1s 28us/step - loss: 0.1643 - val_loss: 0.1657\n",
            "Epoch 136/300\n",
            "23423/23423 [==============================] - 1s 26us/step - loss: 0.1644 - val_loss: 0.1637\n",
            "Epoch 137/300\n",
            "23423/23423 [==============================] - 1s 27us/step - loss: 0.1643 - val_loss: 0.1641\n",
            "Epoch 138/300\n",
            "23423/23423 [==============================] - 1s 27us/step - loss: 0.1640 - val_loss: 0.1642\n",
            "Epoch 139/300\n",
            "23423/23423 [==============================] - 1s 27us/step - loss: 0.1641 - val_loss: 0.1653\n",
            "Epoch 140/300\n",
            "23423/23423 [==============================] - 1s 27us/step - loss: 0.1635 - val_loss: 0.1642\n",
            "Epoch 141/300\n",
            "23423/23423 [==============================] - 1s 26us/step - loss: 0.1640 - val_loss: 0.1639\n",
            "Epoch 142/300\n",
            "23423/23423 [==============================] - 1s 26us/step - loss: 0.1632 - val_loss: 0.1647\n",
            "Epoch 143/300\n",
            "23423/23423 [==============================] - 1s 27us/step - loss: 0.1641 - val_loss: 0.1645\n",
            "Epoch 144/300\n",
            "23423/23423 [==============================] - 1s 27us/step - loss: 0.1629 - val_loss: 0.1641\n",
            "Epoch 145/300\n",
            "23423/23423 [==============================] - 1s 26us/step - loss: 0.1633 - val_loss: 0.1646\n",
            "Epoch 146/300\n",
            "23423/23423 [==============================] - 1s 26us/step - loss: 0.1638 - val_loss: 0.1641\n",
            "Epoch 147/300\n",
            "23423/23423 [==============================] - 1s 26us/step - loss: 0.1632 - val_loss: 0.1640\n",
            "Epoch 148/300\n",
            "23423/23423 [==============================] - 1s 26us/step - loss: 0.1630 - val_loss: 0.1639\n",
            "Epoch 149/300\n",
            "23423/23423 [==============================] - 1s 26us/step - loss: 0.1636 - val_loss: 0.1639\n",
            "Epoch 150/300\n",
            "23423/23423 [==============================] - 1s 27us/step - loss: 0.1632 - val_loss: 0.1629\n",
            "Epoch 151/300\n",
            "23423/23423 [==============================] - 1s 27us/step - loss: 0.1638 - val_loss: 0.1620\n",
            "Epoch 152/300\n",
            "23423/23423 [==============================] - 1s 27us/step - loss: 0.1635 - val_loss: 0.1635\n",
            "Epoch 153/300\n",
            "23423/23423 [==============================] - 1s 26us/step - loss: 0.1623 - val_loss: 0.1619\n",
            "Epoch 154/300\n",
            "23423/23423 [==============================] - 1s 27us/step - loss: 0.1628 - val_loss: 0.1620\n",
            "Epoch 155/300\n",
            "23423/23423 [==============================] - 1s 27us/step - loss: 0.1630 - val_loss: 0.1622\n",
            "Epoch 156/300\n",
            "23423/23423 [==============================] - 1s 26us/step - loss: 0.1618 - val_loss: 0.1627\n",
            "Epoch 157/300\n",
            "23423/23423 [==============================] - 1s 27us/step - loss: 0.1631 - val_loss: 0.1630\n",
            "Epoch 158/300\n",
            "23423/23423 [==============================] - 1s 26us/step - loss: 0.1628 - val_loss: 0.1631\n",
            "Epoch 159/300\n",
            "23423/23423 [==============================] - 1s 27us/step - loss: 0.1620 - val_loss: 0.1616\n",
            "Epoch 160/300\n",
            "23423/23423 [==============================] - 1s 27us/step - loss: 0.1626 - val_loss: 0.1626\n",
            "Epoch 161/300\n",
            "23423/23423 [==============================] - 1s 26us/step - loss: 0.1619 - val_loss: 0.1645\n",
            "Epoch 162/300\n",
            "23423/23423 [==============================] - 1s 27us/step - loss: 0.1625 - val_loss: 0.1611\n",
            "Epoch 163/300\n",
            "23423/23423 [==============================] - 1s 27us/step - loss: 0.1617 - val_loss: 0.1629\n",
            "Epoch 164/300\n",
            "23423/23423 [==============================] - 1s 26us/step - loss: 0.1622 - val_loss: 0.1645\n",
            "Epoch 165/300\n",
            "23423/23423 [==============================] - 1s 26us/step - loss: 0.1621 - val_loss: 0.1618\n",
            "Epoch 166/300\n",
            "23423/23423 [==============================] - 1s 26us/step - loss: 0.1621 - val_loss: 0.1636\n",
            "Epoch 167/300\n",
            "23423/23423 [==============================] - 1s 27us/step - loss: 0.1608 - val_loss: 0.1642\n",
            "Epoch 168/300\n",
            "23423/23423 [==============================] - 1s 27us/step - loss: 0.1617 - val_loss: 0.1626\n",
            "Epoch 169/300\n",
            "23423/23423 [==============================] - 1s 26us/step - loss: 0.1614 - val_loss: 0.1620\n",
            "Epoch 170/300\n",
            "23423/23423 [==============================] - 1s 27us/step - loss: 0.1620 - val_loss: 0.1616\n",
            "Epoch 171/300\n",
            "23423/23423 [==============================] - 1s 26us/step - loss: 0.1617 - val_loss: 0.1631\n",
            "Epoch 172/300\n",
            "23423/23423 [==============================] - 1s 27us/step - loss: 0.1616 - val_loss: 0.1629\n",
            "Epoch 173/300\n",
            "23423/23423 [==============================] - 1s 27us/step - loss: 0.1616 - val_loss: 0.1616\n",
            "Epoch 174/300\n",
            "23423/23423 [==============================] - 1s 26us/step - loss: 0.1611 - val_loss: 0.1605\n",
            "Epoch 175/300\n",
            "23423/23423 [==============================] - 1s 26us/step - loss: 0.1619 - val_loss: 0.1632\n",
            "Epoch 176/300\n",
            "23423/23423 [==============================] - 1s 27us/step - loss: 0.1613 - val_loss: 0.1631\n",
            "Epoch 177/300\n",
            "23423/23423 [==============================] - 1s 27us/step - loss: 0.1610 - val_loss: 0.1611\n",
            "Epoch 178/300\n",
            "23423/23423 [==============================] - 1s 27us/step - loss: 0.1617 - val_loss: 0.1618\n",
            "Epoch 179/300\n",
            "23423/23423 [==============================] - 1s 26us/step - loss: 0.1604 - val_loss: 0.1607\n",
            "Epoch 180/300\n",
            "23423/23423 [==============================] - 1s 27us/step - loss: 0.1615 - val_loss: 0.1606\n",
            "Epoch 181/300\n",
            "23423/23423 [==============================] - 1s 27us/step - loss: 0.1614 - val_loss: 0.1633\n",
            "Epoch 182/300\n",
            "23423/23423 [==============================] - 1s 26us/step - loss: 0.1612 - val_loss: 0.1610\n",
            "Epoch 183/300\n",
            "23423/23423 [==============================] - 1s 26us/step - loss: 0.1606 - val_loss: 0.1608\n",
            "Epoch 184/300\n",
            "23423/23423 [==============================] - 1s 26us/step - loss: 0.1611 - val_loss: 0.1630\n",
            "Epoch 185/300\n",
            "23423/23423 [==============================] - 1s 27us/step - loss: 0.1611 - val_loss: 0.1608\n",
            "Epoch 186/300\n",
            "23423/23423 [==============================] - 1s 27us/step - loss: 0.1596 - val_loss: 0.1611\n",
            "Epoch 187/300\n",
            "23423/23423 [==============================] - 1s 26us/step - loss: 0.1608 - val_loss: 0.1598\n",
            "Epoch 188/300\n",
            "23423/23423 [==============================] - 1s 27us/step - loss: 0.1610 - val_loss: 0.1602\n",
            "Epoch 189/300\n",
            "23423/23423 [==============================] - 1s 26us/step - loss: 0.1597 - val_loss: 0.1621\n",
            "Epoch 190/300\n",
            "23423/23423 [==============================] - 1s 27us/step - loss: 0.1608 - val_loss: 0.1623\n",
            "Epoch 191/300\n",
            "23423/23423 [==============================] - 1s 27us/step - loss: 0.1604 - val_loss: 0.1609\n",
            "Epoch 192/300\n",
            "23423/23423 [==============================] - 1s 26us/step - loss: 0.1600 - val_loss: 0.1588\n",
            "Epoch 193/300\n",
            "23423/23423 [==============================] - 1s 26us/step - loss: 0.1601 - val_loss: 0.1617\n",
            "Epoch 194/300\n",
            "23423/23423 [==============================] - 1s 27us/step - loss: 0.1599 - val_loss: 0.1593\n",
            "Epoch 195/300\n",
            "23423/23423 [==============================] - 1s 27us/step - loss: 0.1597 - val_loss: 0.1589\n",
            "Epoch 196/300\n",
            "23423/23423 [==============================] - 1s 27us/step - loss: 0.1604 - val_loss: 0.1604\n",
            "Epoch 197/300\n",
            "23423/23423 [==============================] - 1s 26us/step - loss: 0.1602 - val_loss: 0.1594\n",
            "Epoch 198/300\n",
            "23423/23423 [==============================] - 1s 27us/step - loss: 0.1603 - val_loss: 0.1599\n",
            "Epoch 199/300\n",
            "23423/23423 [==============================] - 1s 27us/step - loss: 0.1594 - val_loss: 0.1616\n",
            "Epoch 200/300\n",
            "23423/23423 [==============================] - 1s 27us/step - loss: 0.1595 - val_loss: 0.1599\n",
            "Epoch 201/300\n",
            "23423/23423 [==============================] - 1s 26us/step - loss: 0.1604 - val_loss: 0.1607\n",
            "Epoch 202/300\n",
            "23423/23423 [==============================] - 1s 26us/step - loss: 0.1589 - val_loss: 0.1615\n",
            "Epoch 203/300\n",
            "23423/23423 [==============================] - 1s 26us/step - loss: 0.1602 - val_loss: 0.1594\n",
            "Epoch 204/300\n",
            "23423/23423 [==============================] - 1s 26us/step - loss: 0.1597 - val_loss: 0.1591\n",
            "Epoch 205/300\n",
            "23423/23423 [==============================] - 1s 26us/step - loss: 0.1589 - val_loss: 0.1603\n",
            "Epoch 206/300\n",
            "23423/23423 [==============================] - 1s 27us/step - loss: 0.1594 - val_loss: 0.1594\n",
            "Epoch 207/300\n",
            "23423/23423 [==============================] - 1s 26us/step - loss: 0.1590 - val_loss: 0.1619\n",
            "Epoch 208/300\n",
            "23423/23423 [==============================] - 1s 27us/step - loss: 0.1595 - val_loss: 0.1603\n",
            "Epoch 209/300\n",
            "23423/23423 [==============================] - 1s 26us/step - loss: 0.1595 - val_loss: 0.1590\n",
            "Epoch 210/300\n",
            "23423/23423 [==============================] - 1s 26us/step - loss: 0.1587 - val_loss: 0.1603\n",
            "Epoch 211/300\n",
            "23423/23423 [==============================] - 1s 27us/step - loss: 0.1597 - val_loss: 0.1609\n",
            "Epoch 212/300\n",
            "23423/23423 [==============================] - 1s 26us/step - loss: 0.1591 - val_loss: 0.1607\n",
            "Epoch 213/300\n",
            "23423/23423 [==============================] - 1s 26us/step - loss: 0.1597 - val_loss: 0.1590\n",
            "Epoch 214/300\n",
            "23423/23423 [==============================] - 1s 27us/step - loss: 0.1589 - val_loss: 0.1608\n",
            "Epoch 215/300\n",
            "23423/23423 [==============================] - 1s 26us/step - loss: 0.1586 - val_loss: 0.1602\n",
            "Epoch 216/300\n",
            "23423/23423 [==============================] - 1s 26us/step - loss: 0.1591 - val_loss: 0.1609\n",
            "Epoch 217/300\n",
            "23423/23423 [==============================] - 1s 27us/step - loss: 0.1582 - val_loss: 0.1583\n",
            "Epoch 218/300\n",
            "23423/23423 [==============================] - 1s 27us/step - loss: 0.1589 - val_loss: 0.1598\n",
            "Epoch 219/300\n",
            "23423/23423 [==============================] - 1s 26us/step - loss: 0.1590 - val_loss: 0.1598\n",
            "Epoch 220/300\n",
            "23423/23423 [==============================] - 1s 26us/step - loss: 0.1591 - val_loss: 0.1590\n",
            "Epoch 221/300\n",
            "23423/23423 [==============================] - 1s 27us/step - loss: 0.1586 - val_loss: 0.1579\n",
            "Epoch 222/300\n",
            "23423/23423 [==============================] - 1s 26us/step - loss: 0.1592 - val_loss: 0.1599\n",
            "Epoch 223/300\n",
            "23423/23423 [==============================] - 1s 26us/step - loss: 0.1588 - val_loss: 0.1598\n",
            "Epoch 224/300\n",
            "23423/23423 [==============================] - 1s 26us/step - loss: 0.1589 - val_loss: 0.1595\n",
            "Epoch 225/300\n",
            "23423/23423 [==============================] - 1s 27us/step - loss: 0.1587 - val_loss: 0.1594\n",
            "Epoch 226/300\n",
            "23423/23423 [==============================] - 1s 27us/step - loss: 0.1589 - val_loss: 0.1588\n",
            "Epoch 227/300\n",
            "23423/23423 [==============================] - 1s 27us/step - loss: 0.1588 - val_loss: 0.1580\n",
            "Epoch 228/300\n",
            "23423/23423 [==============================] - 1s 27us/step - loss: 0.1582 - val_loss: 0.1603\n",
            "Epoch 229/300\n",
            "23423/23423 [==============================] - 1s 26us/step - loss: 0.1585 - val_loss: 0.1597\n",
            "Epoch 230/300\n",
            "23423/23423 [==============================] - 1s 26us/step - loss: 0.1583 - val_loss: 0.1597\n",
            "Epoch 231/300\n",
            "23423/23423 [==============================] - 1s 26us/step - loss: 0.1583 - val_loss: 0.1599\n",
            "Epoch 232/300\n",
            "23423/23423 [==============================] - 1s 26us/step - loss: 0.1590 - val_loss: 0.1591\n",
            "Epoch 233/300\n",
            "23423/23423 [==============================] - 1s 26us/step - loss: 0.1584 - val_loss: 0.1574\n",
            "Epoch 234/300\n",
            "23423/23423 [==============================] - 1s 26us/step - loss: 0.1582 - val_loss: 0.1589\n",
            "Epoch 235/300\n",
            "23423/23423 [==============================] - 1s 26us/step - loss: 0.1582 - val_loss: 0.1600\n",
            "Epoch 236/300\n",
            "23423/23423 [==============================] - 1s 27us/step - loss: 0.1585 - val_loss: 0.1582\n",
            "Epoch 237/300\n",
            "23423/23423 [==============================] - 1s 26us/step - loss: 0.1581 - val_loss: 0.1596\n",
            "Epoch 238/300\n",
            "23423/23423 [==============================] - 1s 26us/step - loss: 0.1582 - val_loss: 0.1576\n",
            "Epoch 239/300\n",
            "23423/23423 [==============================] - 1s 26us/step - loss: 0.1580 - val_loss: 0.1615\n",
            "Epoch 240/300\n",
            "23423/23423 [==============================] - 1s 26us/step - loss: 0.1581 - val_loss: 0.1574\n",
            "Epoch 241/300\n",
            "23423/23423 [==============================] - 1s 26us/step - loss: 0.1580 - val_loss: 0.1583\n",
            "Epoch 242/300\n",
            "23423/23423 [==============================] - 1s 27us/step - loss: 0.1581 - val_loss: 0.1572\n",
            "Epoch 243/300\n",
            "23423/23423 [==============================] - 1s 26us/step - loss: 0.1578 - val_loss: 0.1590\n",
            "Epoch 244/300\n",
            "23423/23423 [==============================] - 1s 27us/step - loss: 0.1581 - val_loss: 0.1586\n",
            "Epoch 245/300\n",
            "23423/23423 [==============================] - 1s 26us/step - loss: 0.1582 - val_loss: 0.1575\n",
            "Epoch 246/300\n",
            "23423/23423 [==============================] - 1s 26us/step - loss: 0.1576 - val_loss: 0.1589\n",
            "Epoch 247/300\n",
            "23423/23423 [==============================] - 1s 26us/step - loss: 0.1573 - val_loss: 0.1580\n",
            "Epoch 248/300\n",
            "23423/23423 [==============================] - 1s 26us/step - loss: 0.1579 - val_loss: 0.1576\n",
            "Epoch 249/300\n",
            "23423/23423 [==============================] - 1s 26us/step - loss: 0.1575 - val_loss: 0.1578\n",
            "Epoch 250/300\n",
            "23423/23423 [==============================] - 1s 26us/step - loss: 0.1576 - val_loss: 0.1567\n",
            "Epoch 251/300\n",
            "23423/23423 [==============================] - 1s 26us/step - loss: 0.1570 - val_loss: 0.1595\n",
            "Epoch 252/300\n",
            "23423/23423 [==============================] - 1s 27us/step - loss: 0.1574 - val_loss: 0.1575\n",
            "Epoch 253/300\n",
            "23423/23423 [==============================] - 1s 26us/step - loss: 0.1570 - val_loss: 0.1564\n",
            "Epoch 254/300\n",
            "23423/23423 [==============================] - 1s 26us/step - loss: 0.1575 - val_loss: 0.1575\n",
            "Epoch 255/300\n",
            "23423/23423 [==============================] - 1s 26us/step - loss: 0.1574 - val_loss: 0.1585\n",
            "Epoch 256/300\n",
            "23423/23423 [==============================] - 1s 26us/step - loss: 0.1565 - val_loss: 0.1595\n",
            "Epoch 257/300\n",
            "23423/23423 [==============================] - 1s 27us/step - loss: 0.1576 - val_loss: 0.1570\n",
            "Epoch 258/300\n",
            "23423/23423 [==============================] - 1s 26us/step - loss: 0.1572 - val_loss: 0.1594\n",
            "Epoch 259/300\n",
            "23423/23423 [==============================] - 1s 26us/step - loss: 0.1573 - val_loss: 0.1581\n",
            "Epoch 260/300\n",
            "23423/23423 [==============================] - 1s 26us/step - loss: 0.1566 - val_loss: 0.1590\n",
            "Epoch 261/300\n",
            "23423/23423 [==============================] - 1s 26us/step - loss: 0.1573 - val_loss: 0.1598\n",
            "Epoch 262/300\n",
            "23423/23423 [==============================] - 1s 27us/step - loss: 0.1566 - val_loss: 0.1585\n",
            "Epoch 263/300\n",
            "23423/23423 [==============================] - 1s 26us/step - loss: 0.1567 - val_loss: 0.1569\n",
            "Epoch 264/300\n",
            "23423/23423 [==============================] - 1s 27us/step - loss: 0.1568 - val_loss: 0.1576\n",
            "Epoch 265/300\n",
            "23423/23423 [==============================] - 1s 26us/step - loss: 0.1568 - val_loss: 0.1581\n",
            "Epoch 266/300\n",
            "23423/23423 [==============================] - 1s 27us/step - loss: 0.1568 - val_loss: 0.1584\n",
            "Epoch 267/300\n",
            "23423/23423 [==============================] - 1s 26us/step - loss: 0.1562 - val_loss: 0.1569\n",
            "Epoch 268/300\n",
            "23423/23423 [==============================] - 1s 26us/step - loss: 0.1571 - val_loss: 0.1596\n",
            "Epoch 269/300\n",
            "23423/23423 [==============================] - 1s 26us/step - loss: 0.1566 - val_loss: 0.1557\n",
            "Epoch 270/300\n",
            "23423/23423 [==============================] - 1s 26us/step - loss: 0.1561 - val_loss: 0.1570\n",
            "Epoch 271/300\n",
            "23423/23423 [==============================] - 1s 27us/step - loss: 0.1565 - val_loss: 0.1580\n",
            "Epoch 272/300\n",
            "23423/23423 [==============================] - 1s 26us/step - loss: 0.1564 - val_loss: 0.1593\n",
            "Epoch 273/300\n",
            "23423/23423 [==============================] - 1s 26us/step - loss: 0.1566 - val_loss: 0.1580\n",
            "Epoch 274/300\n",
            "23423/23423 [==============================] - 1s 26us/step - loss: 0.1562 - val_loss: 0.1573\n",
            "Epoch 275/300\n",
            "23423/23423 [==============================] - 1s 26us/step - loss: 0.1566 - val_loss: 0.1561\n",
            "Epoch 276/300\n",
            "23423/23423 [==============================] - 1s 26us/step - loss: 0.1554 - val_loss: 0.1560\n",
            "Epoch 277/300\n",
            "23423/23423 [==============================] - 1s 26us/step - loss: 0.1567 - val_loss: 0.1592\n",
            "Epoch 278/300\n",
            "23423/23423 [==============================] - 1s 26us/step - loss: 0.1563 - val_loss: 0.1566\n",
            "Epoch 279/300\n",
            "23423/23423 [==============================] - 1s 26us/step - loss: 0.1563 - val_loss: 0.1562\n",
            "Epoch 280/300\n",
            "23423/23423 [==============================] - 1s 26us/step - loss: 0.1558 - val_loss: 0.1575\n",
            "Epoch 281/300\n",
            "23423/23423 [==============================] - 1s 27us/step - loss: 0.1558 - val_loss: 0.1596\n",
            "Epoch 282/300\n",
            "23423/23423 [==============================] - 1s 26us/step - loss: 0.1561 - val_loss: 0.1563\n",
            "Epoch 283/300\n",
            "23423/23423 [==============================] - 1s 26us/step - loss: 0.1555 - val_loss: 0.1545\n",
            "Epoch 284/300\n",
            "23423/23423 [==============================] - 1s 26us/step - loss: 0.1559 - val_loss: 0.1561\n",
            "Epoch 285/300\n",
            "23423/23423 [==============================] - 1s 26us/step - loss: 0.1557 - val_loss: 0.1561\n",
            "Epoch 286/300\n",
            "23423/23423 [==============================] - 1s 27us/step - loss: 0.1553 - val_loss: 0.1561\n",
            "Epoch 287/300\n",
            "23423/23423 [==============================] - 1s 26us/step - loss: 0.1560 - val_loss: 0.1569\n",
            "Epoch 288/300\n",
            "23423/23423 [==============================] - 1s 26us/step - loss: 0.1553 - val_loss: 0.1585\n",
            "Epoch 289/300\n",
            "23423/23423 [==============================] - 1s 26us/step - loss: 0.1554 - val_loss: 0.1565\n",
            "Epoch 290/300\n",
            "23423/23423 [==============================] - 1s 26us/step - loss: 0.1557 - val_loss: 0.1553\n",
            "Epoch 291/300\n",
            "23423/23423 [==============================] - 1s 26us/step - loss: 0.1552 - val_loss: 0.1560\n",
            "Epoch 292/300\n",
            "23423/23423 [==============================] - 1s 26us/step - loss: 0.1550 - val_loss: 0.1552\n",
            "Epoch 293/300\n",
            "23423/23423 [==============================] - 1s 26us/step - loss: 0.1558 - val_loss: 0.1567\n",
            "Epoch 294/300\n",
            "23423/23423 [==============================] - 1s 26us/step - loss: 0.1546 - val_loss: 0.1538\n",
            "Epoch 295/300\n",
            "23423/23423 [==============================] - 1s 26us/step - loss: 0.1545 - val_loss: 0.1540\n",
            "Epoch 296/300\n",
            "23423/23423 [==============================] - 1s 27us/step - loss: 0.1553 - val_loss: 0.1550\n",
            "Epoch 297/300\n",
            "23423/23423 [==============================] - 1s 26us/step - loss: 0.1542 - val_loss: 0.1536\n",
            "Epoch 298/300\n",
            "23423/23423 [==============================] - 1s 26us/step - loss: 0.1544 - val_loss: 0.1559\n",
            "Epoch 299/300\n",
            "23423/23423 [==============================] - 1s 26us/step - loss: 0.1551 - val_loss: 0.1555\n",
            "Epoch 300/300\n",
            "23423/23423 [==============================] - 1s 26us/step - loss: 0.1539 - val_loss: 0.1558\n"
          ],
          "name": "stdout"
        }
      ]
    },
    {
      "cell_type": "code",
      "metadata": {
        "colab_type": "code",
        "id": "tzwkn83-doRA",
        "colab": {
          "base_uri": "https://localhost:8080/",
          "height": 513
        },
        "outputId": "8854ecbe-757e-46d9-8eff-e9c683d5e1ad"
      },
      "source": [
        "# summarize history for loss\n",
        "plt.plot(history.history['loss'])\n",
        "plt.plot(history.history['val_loss'])\n",
        "plt.title('model loss')\n",
        "plt.ylabel('loss')\n",
        "plt.xlabel('epoch')\n",
        "plt.legend(['train', 'valid'], loc='upper left')\n",
        "plt.show()"
      ],
      "execution_count": 10,
      "outputs": [
        {
          "output_type": "display_data",
          "data": {
            "image/png": "[encoded data removed]",
            "text/plain": [
              "<Figure size 720x576 with 1 Axes>"
            ]
          },
          "metadata": {
            "tags": []
          }
        }
      ]
    },
    {
      "cell_type": "code",
      "metadata": {
        "colab_type": "code",
        "id": "NWZMYSWUG3Hh",
        "colab": {}
      },
      "source": [
        "x_normal = np.asarray([x for x,y in zip(x_test,y_test) if y in (2,3,5,6,8)])\n",
        "x_novel = np.asarray([x for x,y in zip(x_test,y_test) if y==4])\n",
        "recon_normal = model.predict(x_normal)\n",
        "recon_novel = model.predict(x_novel)"
      ],
      "execution_count": 0,
      "outputs": []
    },
    {
      "cell_type": "code",
      "metadata": {
        "colab_type": "code",
        "id": "Rb6iGw7gHKK1",
        "colab": {
          "base_uri": "https://localhost:8080/",
          "height": 505
        },
        "outputId": "9f05f10d-8ab1-44cd-c745-f30c60b27393"
      },
      "source": [
        "plt.imshow(x_normal[0,...,0], cmap='gray')\n"
      ],
      "execution_count": 12,
      "outputs": [
        {
          "output_type": "execute_result",
          "data": {
            "text/plain": [
              "<matplotlib.image.AxesImage at 0x7f70ac2b6b38>"
            ]
          },
          "metadata": {
            "tags": []
          },
          "execution_count": 12
        },
        {
          "output_type": "display_data",
          "data": {
            "image/png": "[encoded data removed]",
            "text/plain": [
              "<Figure size 720x576 with 1 Axes>"
            ]
          },
          "metadata": {
            "tags": []
          }
        }
      ]
    },
    {
      "cell_type": "code",
      "metadata": {
        "colab_type": "code",
        "id": "SeouczueLuT3",
        "colab": {
          "base_uri": "https://localhost:8080/",
          "height": 505
        },
        "outputId": "999cc05b-85bc-4b1c-db1c-19742cc477ae"
      },
      "source": [
        "plt.imshow(recon_normal[0,...,0],cmap='gray')"
      ],
      "execution_count": 13,
      "outputs": [
        {
          "output_type": "execute_result",
          "data": {
            "text/plain": [
              "<matplotlib.image.AxesImage at 0x7f70ac215780>"
            ]
          },
          "metadata": {
            "tags": []
          },
          "execution_count": 13
        },
        {
          "output_type": "display_data",
          "data": {
            "image/png": "[encoded data removed]",
            "text/plain": [
              "<Figure size 720x576 with 1 Axes>"
            ]
          },
          "metadata": {
            "tags": []
          }
        }
      ]
    },
    {
      "cell_type": "code",
      "metadata": {
        "colab_type": "code",
        "id": "Tc17FyDRSjPD",
        "colab": {
          "base_uri": "https://localhost:8080/",
          "height": 505
        },
        "outputId": "3e65b3df-decd-4c81-9a10-47a2c0ba5a67"
      },
      "source": [
        "plt.imshow(x_novel[0,...,0], cmap='gray')"
      ],
      "execution_count": 14,
      "outputs": [
        {
          "output_type": "execute_result",
          "data": {
            "text/plain": [
              "<matplotlib.image.AxesImage at 0x7f70ac1ef3c8>"
            ]
          },
          "metadata": {
            "tags": []
          },
          "execution_count": 14
        },
        {
          "output_type": "display_data",
          "data": {
            "image/png": "[encoded data removed]",
            "text/plain": [
              "<Figure size 720x576 with 1 Axes>"
            ]
          },
          "metadata": {
            "tags": []
          }
        }
      ]
    },
    {
      "cell_type": "code",
      "metadata": {
        "colab_type": "code",
        "id": "i7IxR1JfSmOO",
        "colab": {
          "base_uri": "https://localhost:8080/",
          "height": 505
        },
        "outputId": "fdcbd6c5-7837-4da8-f822-32a5571d8b7e"
      },
      "source": [
        "plt.imshow(recon_novel[0,...,0],cmap='gray')"
      ],
      "execution_count": 15,
      "outputs": [
        {
          "output_type": "execute_result",
          "data": {
            "text/plain": [
              "<matplotlib.image.AxesImage at 0x7f70ac1ca048>"
            ]
          },
          "metadata": {
            "tags": []
          },
          "execution_count": 15
        },
        {
          "output_type": "display_data",
          "data": {
            "image/png": "[encoded data removed]",
            "text/plain": [
              "<Figure size 720x576 with 1 Axes>"
            ]
          },
          "metadata": {
            "tags": []
          }
        }
      ]
    },
    {
      "cell_type": "code",
      "metadata": {
        "colab_type": "code",
        "id": "adnaq4duIjtD",
        "colab": {
          "base_uri": "https://localhost:8080/",
          "height": 693
        },
        "outputId": "3f0f4871-c518-4038-e628-3099d78b9cc0"
      },
      "source": [
        "error_normal = -np.mean(np.log(recon_normal+1e-19)*x_normal+np.log(1-recon_normal+1e-19)*(1-x_normal),axis=(1,2,3))\n",
        "error_novel = -np.mean(np.log(recon_novel+1e-19)*x_novel+np.log(1-recon_novel+1e-19)*(1-x_novel),axis=(1,2,3))\n",
        "print(np.mean(error_normal),np.mean(error_novel))\n",
        "plt.hist(error_normal, 20, density=True, alpha=0.5, label='normal')\n",
        "plt.hist(error_novel, 20, density=True, alpha=0.5, label='novel')"
      ],
      "execution_count": 16,
      "outputs": [
        {
          "output_type": "stream",
          "text": [
            "0.15544834308443814 0.18513245557848385\n"
          ],
          "name": "stdout"
        },
        {
          "output_type": "execute_result",
          "data": {
            "text/plain": [
              "(array([ 0.29805114,  1.68895646,  3.27856253,  5.66297164,  9.83568759,\n",
              "        10.43178987, 12.31944708, 10.92854177, 11.32594329,  8.44478228,\n",
              "         5.96102278,  5.06686937,  4.37141671,  2.68246025,  1.39090532,\n",
              "         1.4902557 ,  0.79480304,  0.79480304,  0.39740152,  0.39740152]),\n",
              " array([0.10452831, 0.11477819, 0.12502808, 0.13527796, 0.14552785,\n",
              "        0.15577773, 0.16602762, 0.1762775 , 0.18652739, 0.19677727,\n",
              "        0.20702716, 0.21727704, 0.22752693, 0.23777681, 0.2480267 ,\n",
              "        0.25827658, 0.26852646, 0.27877635, 0.28902623, 0.29927612,\n",
              "        0.309526  ]),\n",
              " <a list of 20 Patch objects>)"
            ]
          },
          "metadata": {
            "tags": []
          },
          "execution_count": 16
        },
        {
          "output_type": "display_data",
          "data": {
            "image/png": "[encoded data removed]",
            "text/plain": [
              "<Figure size 720x576 with 1 Axes>"
            ]
          },
          "metadata": {
            "tags": []
          }
        }
      ]
    },
    {
      "cell_type": "code",
      "metadata": {
        "colab_type": "code",
        "id": "hb0LwOrxSoRD",
        "colab": {}
      },
      "source": [
        "code_normal = np.reshape(encoder.predict(x_normal),(-1,32))\n",
        "code_novel = np.reshape(encoder.predict(x_novel),(-1,32))"
      ],
      "execution_count": 0,
      "outputs": []
    },
    {
      "cell_type": "code",
      "metadata": {
        "colab_type": "code",
        "id": "RyuE5yPDkrsN",
        "colab": {}
      },
      "source": [
        "from sklearn.manifold import TSNE\n",
        "tsne = TSNE(n_components=2, init='pca')\n",
        "low = tsne.fit_transform(np.vstack((code_normal,code_novel)))\n"
      ],
      "execution_count": 0,
      "outputs": []
    },
    {
      "cell_type": "code",
      "metadata": {
        "colab_type": "code",
        "id": "4Uz_41EFvHq0",
        "colab": {
          "base_uri": "https://localhost:8080/",
          "height": 416
        },
        "outputId": "d77b5e64-6654-4b1e-827a-533f21a33bd4"
      },
      "source": [
        "t_normal = low[:len(code_normal)]\n",
        "t_novel = low[len(code_normal):]\n",
        "fig=plt.figure(figsize=(9,6), dpi= 80, facecolor='w', edgecolor='k')\n",
        "plt.scatter(t_normal[:,0],t_normal[:,1],color='b',s=2)\n",
        "plt.scatter(t_novel[:,0],t_novel[:,1],color='r',alpha=0.5,s=2)\n",
        "plt.show()\n"
      ],
      "execution_count": 19,
      "outputs": [
        {
          "output_type": "display_data",
          "data": {
            "image/png": "[encoded data removed]",
            "text/plain": [
              "<Figure size 720x480 with 1 Axes>"
            ]
          },
          "metadata": {
            "tags": []
          }
        }
      ]
    }
  ]
}