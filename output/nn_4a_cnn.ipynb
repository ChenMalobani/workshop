{
  "nbformat": 4,
  "nbformat_minor": 0,
  "metadata": {
    "colab": {
      "name": "nn_4a_cnn.ipynb",
      "version": "0.3.2",
      "provenance": [],
      "private_outputs": true,
      "include_colab_link": true
    },
    "kernelspec": {
      "name": "python3",
      "display_name": "Python 3"
    }
  },
  "cells": [
    {
      "cell_type": "markdown",
      "metadata": {
        "id": "view-in-github",
        "colab_type": "text"
      },
      "source": [
        "<a href=\"https://colab.research.google.com/github/eyaler/workshop/blob/master/output/nn_4a_cnn.ipynb\" target=\"_parent\"><img src=\"https://colab.research.google.com/assets/colab-badge.svg\" alt=\"Open In Colab\"/></a>"
      ]
    },
    {
      "cell_type": "code",
      "metadata": {
        "id": "359UWQ3VjcqA",
        "colab_type": "code",
        "colab": {}
      },
      "source": [
        "from keras import Input, Model\n",
        "from keras.layers import Dense, Conv2D, MaxPooling2D, Flatten\n",
        "\n",
        "inputs = Input(shape=(32, 32, 3))\n",
        "f = Conv2D(filters=16, kernel_size=3, padding='same', activation='relu')(inputs)\n",
        "f = MaxPooling2D()(f)\n",
        "f = Conv2D(filters=32, kernel_size=3, padding='same', activation='relu')(f)\n",
        "f = MaxPooling2D()(f)\n",
        "f = Flatten()(f)\n",
        "f = Dense(512, activation='relu')(f)\n",
        "outputs = Dense(10, activation='softmax')(f)\n",
        "\n",
        "model = Model(inputs=inputs, outputs=outputs)\n",
        "model.summary()"
      ],
      "execution_count": 0,
      "outputs": []
    }
  ]
}
