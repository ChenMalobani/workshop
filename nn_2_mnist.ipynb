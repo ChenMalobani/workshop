{
 "cells": [
  {
   "cell_type": "markdown",
   "metadata": {},
   "source": [
    "[![Open In Colab](https://colab.research.google.com/assets/colab-badge.svg)](https://colab.research.google.com/github/eyaler/workshop/blob/master/nn_2_mnist.ipynb)"
   ]
  },
  {
   "cell_type": "markdown",
   "metadata": {
    "colab_type": "text",
    "id": "o_2GbL_Pe7tP"
   },
   "source": [
    "# 2. How to train and test your network (MNIST)"
   ]
  },
  {
   "cell_type": "code",
   "execution_count": null,
   "metadata": {
    "colab": {},
    "colab_type": "code",
    "id": "QyIpe-gkeT3v"
   },
   "outputs": [],
   "source": [
    "import numpy as np\n",
    "import matplotlib\n",
    "import matplotlib.pyplot as plt\n",
    "from sklearn.utils import shuffle\n",
    "from keras import Input, Model\n",
    "from keras.layers import Dense, Dropout\n",
    "from keras.datasets import mnist, cifar10\n",
    "from keras.utils import to_categorical\n",
    "matplotlib.rcParams['figure.figsize'] = (10.0, 8.0)"
   ]
  },
  {
   "cell_type": "code",
   "execution_count": null,
   "metadata": {
    "colab": {},
    "colab_type": "code",
    "id": "7Acn_R2zeT36"
   },
   "outputs": [],
   "source": [
    "# set random seeds for more reproducible results\n",
    "from numpy.random import seed\n",
    "seed(42)\n",
    "from tensorflow import set_random_seed\n",
    "set_random_seed(43)"
   ]
  },
  {
   "cell_type": "code",
   "execution_count": null,
   "metadata": {
    "colab": {
     "base_uri": "https://localhost:8080/",
     "height": 94
    },
    "colab_type": "code",
    "executionInfo": {
     "elapsed": 1728,
     "status": "ok",
     "timestamp": 1555247460387,
     "user": {
      "displayName": "Eyal Gruss",
      "photoUrl": "https://lh4.googleusercontent.com/-u09YaZrQAqY/AAAAAAAAAAI/AAAAAAAAC64/Edn8Phw0CRs/s64/photo.jpg",
      "userId": "10806915125759667398"
     },
     "user_tz": -180
    },
    "id": "uxaa4gb5eT4I",
    "outputId": "445cc1de-114d-408b-a543-7249a64370ee"
   },
   "outputs": [],
   "source": [
    "# load dataset\n",
    "(x_train, y_train), (x_test, y_test) = mnist.load_data()\n",
    "#(x_train, y_train), (x_test, y_test) = cifar10.load_data()\n",
    "print(x_train.shape, y_train.shape)\n",
    "if len(x_train.shape)==4:\n",
    "    x_train = np.mean(x_train, axis=-1)\n",
    "    x_test = np.mean(x_test, axis=-1)\n",
    "train_size = len(y_train)\n",
    "test_size = len(y_test)\n",
    "xdim = x_train.shape[1]\n",
    "ydim = x_train.shape[2]\n",
    "print(x_train.dtype, y_train.dtype)"
   ]
  },
  {
   "cell_type": "code",
   "execution_count": null,
   "metadata": {
    "colab": {
     "base_uri": "https://localhost:8080/",
     "height": 1604
    },
    "colab_type": "code",
    "executionInfo": {
     "elapsed": 1227,
     "status": "ok",
     "timestamp": 1555248036613,
     "user": {
      "displayName": "Eyal Gruss",
      "photoUrl": "https://lh4.googleusercontent.com/-u09YaZrQAqY/AAAAAAAAAAI/AAAAAAAAC64/Edn8Phw0CRs/s64/photo.jpg",
      "userId": "10806915125759667398"
     },
     "user_tz": -180
    },
    "id": "0BHIGPQQeT4b",
    "outputId": "a3a5c9aa-37e7-4189-f80d-890cd880f80b"
   },
   "outputs": [],
   "source": [
    "print(x_train[0])\n",
    "print(y_train[0])\n",
    "plt.imshow(x_train[0], cmap='gray')"
   ]
  },
  {
   "cell_type": "code",
   "execution_count": null,
   "metadata": {
    "colab": {
     "base_uri": "https://localhost:8080/",
     "height": 75
    },
    "colab_type": "code",
    "executionInfo": {
     "elapsed": 940,
     "status": "ok",
     "timestamp": 1555248102372,
     "user": {
      "displayName": "Eyal Gruss",
      "photoUrl": "https://lh4.googleusercontent.com/-u09YaZrQAqY/AAAAAAAAAAI/AAAAAAAAC64/Edn8Phw0CRs/s64/photo.jpg",
      "userId": "10806915125759667398"
     },
     "user_tz": -180
    },
    "id": "J0Ed-ak1eT4k",
    "outputId": "4431f5d2-6c33-4621-856f-d459cfb0fe38"
   },
   "outputs": [],
   "source": [
    "print(np.min(x_train), np.max(x_train), np.median(x_train))\n",
    "print(np.unique(y_train, return_counts=True))\n",
    "print(np.unique(y_test, return_counts=True))"
   ]
  },
  {
   "cell_type": "code",
   "execution_count": null,
   "metadata": {
    "colab": {},
    "colab_type": "code",
    "id": "jucaKvFueT4u"
   },
   "outputs": [],
   "source": [
    "n_classes = len(np.unique(y_test))\n",
    "x_train, y_train = shuffle(x_train, y_train, random_state=44)\n",
    "x_train = x_train.reshape((train_size, -1))/255\n",
    "x_test = x_test.reshape((test_size, -1))/255\n",
    "y_train = to_categorical(y_train, n_classes)\n",
    "y_test = to_categorical(y_test, n_classes)"
   ]
  },
  {
   "cell_type": "code",
   "execution_count": null,
   "metadata": {
    "colab": {
     "base_uri": "https://localhost:8080/",
     "height": 152
    },
    "colab_type": "code",
    "executionInfo": {
     "elapsed": 764,
     "status": "ok",
     "timestamp": 1555248532206,
     "user": {
      "displayName": "Eyal Gruss",
      "photoUrl": "https://lh4.googleusercontent.com/-u09YaZrQAqY/AAAAAAAAAAI/AAAAAAAAC64/Edn8Phw0CRs/s64/photo.jpg",
      "userId": "10806915125759667398"
     },
     "user_tz": -180
    },
    "id": "RjYqdpq6CQ-u",
    "outputId": "de712d2b-1be0-4040-ba04-1cbfb24827e7"
   },
   "outputs": [],
   "source": [
    "y_test"
   ]
  },
  {
   "cell_type": "code",
   "execution_count": null,
   "metadata": {
    "colab": {},
    "colab_type": "code",
    "id": "b-G4idt2eT43"
   },
   "outputs": [],
   "source": [
    "dropout_prob = 0.5\n",
    "\n",
    "def get_model():\n",
    "    inputs = Input(shape=(xdim*ydim,))\n",
    "    f = Dense(512, activation='relu')(inputs)\n",
    "    f = Dropout(dropout_prob)(f)\n",
    "    f = Dense(512, activation='relu')(f)\n",
    "    f = Dropout(dropout_prob)(f)\n",
    "    outputs = Dense(n_classes, activation='softmax')(f)\n",
    "    return Model(inputs=inputs, outputs=outputs)"
   ]
  },
  {
   "cell_type": "code",
   "execution_count": null,
   "metadata": {
    "colab": {
     "base_uri": "https://localhost:8080/",
     "height": 4472
    },
    "colab_type": "code",
    "executionInfo": {
     "elapsed": 668449,
     "status": "ok",
     "timestamp": 1555250057684,
     "user": {
      "displayName": "Eyal Gruss",
      "photoUrl": "https://lh4.googleusercontent.com/-u09YaZrQAqY/AAAAAAAAAAI/AAAAAAAAC64/Edn8Phw0CRs/s64/photo.jpg",
      "userId": "10806915125759667398"
     },
     "user_tz": -180
    },
    "id": "4ZkomlR9eT5B",
    "outputId": "2a4092d8-9105-488a-c26e-320c400b0e3c"
   },
   "outputs": [],
   "source": [
    "model = get_model()\n",
    "print(model.summary())\n",
    "model.compile(optimizer='SGD', loss='categorical_crossentropy', metrics=['accuracy'])\n",
    "history = model.fit(x=x_train, y=y_train, batch_size=128, epochs=100, validation_split=0.2)"
   ]
  },
  {
   "cell_type": "code",
   "execution_count": null,
   "metadata": {
    "colab": {
     "base_uri": "https://localhost:8080/",
     "height": 1009
    },
    "colab_type": "code",
    "executionInfo": {
     "elapsed": 1337,
     "status": "ok",
     "timestamp": 1555250216761,
     "user": {
      "displayName": "Eyal Gruss",
      "photoUrl": "https://lh4.googleusercontent.com/-u09YaZrQAqY/AAAAAAAAAAI/AAAAAAAAC64/Edn8Phw0CRs/s64/photo.jpg",
      "userId": "10806915125759667398"
     },
     "user_tz": -180
    },
    "id": "F942G9BceT5U",
    "outputId": "615ce578-10f9-4b59-8c7e-408f7e969d9f"
   },
   "outputs": [],
   "source": [
    "plt.plot(history.history['acc'])\n",
    "plt.plot(history.history['val_acc'])\n",
    "plt.title('model accuracy')\n",
    "plt.ylabel('accuracy')\n",
    "plt.xlabel('epoch')\n",
    "plt.legend(['train', 'valid'], loc='upper left')\n",
    "plt.show()\n",
    "# summarize history for loss\n",
    "plt.plot(history.history['loss'])\n",
    "plt.plot(history.history['val_loss'])\n",
    "plt.title('model loss')\n",
    "plt.ylabel('loss')\n",
    "plt.xlabel('epoch')\n",
    "plt.legend(['train', 'valid'], loc='upper left')\n",
    "plt.show()"
   ]
  },
  {
   "cell_type": "code",
   "execution_count": null,
   "metadata": {
    "colab": {
     "base_uri": "https://localhost:8080/",
     "height": 248
    },
    "colab_type": "code",
    "executionInfo": {
     "elapsed": 2336,
     "status": "ok",
     "timestamp": 1555250412060,
     "user": {
      "displayName": "Eyal Gruss",
      "photoUrl": "https://lh4.googleusercontent.com/-u09YaZrQAqY/AAAAAAAAAAI/AAAAAAAAC64/Edn8Phw0CRs/s64/photo.jpg",
      "userId": "10806915125759667398"
     },
     "user_tz": -180
    },
    "id": "3Wn1zW9_eT5i",
    "outputId": "5f58ceff-714e-46cb-e062-9d5b5839d687"
   },
   "outputs": [],
   "source": [
    "from sklearn.metrics import confusion_matrix\n",
    "loss, acc = model.evaluate(x=x_test, y=y_test)\n",
    "print(loss, acc)\n",
    "targets = np.argmax(y_test, axis=-1)\n",
    "probabilities = model.predict(x=x_test)\n",
    "predictions = np.argmax(probabilities, axis=-1)\n",
    "cm = confusion_matrix(y_true=targets, y_pred=predictions)\n",
    "print(cm)"
   ]
  },
  {
   "cell_type": "code",
   "execution_count": null,
   "metadata": {
    "colab": {
     "base_uri": "https://localhost:8080/",
     "height": 1181
    },
    "colab_type": "code",
    "executionInfo": {
     "elapsed": 2659,
     "status": "ok",
     "timestamp": 1555250417873,
     "user": {
      "displayName": "Eyal Gruss",
      "photoUrl": "https://lh4.googleusercontent.com/-u09YaZrQAqY/AAAAAAAAAAI/AAAAAAAAC64/Edn8Phw0CRs/s64/photo.jpg",
      "userId": "10806915125759667398"
     },
     "user_tz": -180
    },
    "id": "P_YB1tQOeT5w",
    "outputId": "57417e74-485d-4d60-bce0-952ebef34493"
   },
   "outputs": [],
   "source": [
    "import itertools\n",
    "\n",
    "def plot_confusion_matrix(cm, classes, normalize=False, cmap=plt.cm.Blues):\n",
    "    \"\"\"\n",
    "    This function prints and plots the confusion matrix.\n",
    "    Normalization can be applied by setting `normalize=True`.\n",
    "    \"\"\"\n",
    "    if normalize:\n",
    "        cm = cm.astype('float') / cm.sum(axis=1)[:, np.newaxis]\n",
    "        title = 'Normalized confusion matrix'\n",
    "    else:\n",
    "        title = 'Confusion matrix, without normalization'\n",
    "\n",
    "    plt.figure()\n",
    "    plt.imshow(cm, interpolation='nearest', cmap=cmap)\n",
    "    plt.title(title)\n",
    "    plt.colorbar()\n",
    "    tick_marks = np.arange(len(classes))\n",
    "    plt.xticks(tick_marks, classes, rotation=45)\n",
    "    plt.yticks(tick_marks, classes)\n",
    "\n",
    "    np.set_printoptions(precision=2)\n",
    "    fmt = '.2f' if normalize else 'd'\n",
    "    thresh = cm.max() / 2.\n",
    "    for i, j in itertools.product(range(cm.shape[0]), range(cm.shape[1])):\n",
    "        plt.text(j, i, format(cm[i, j], fmt),\n",
    "                 horizontalalignment=\"center\",\n",
    "                 color=\"white\" if cm[i, j] > thresh else \"black\")\n",
    "\n",
    "    plt.tight_layout()\n",
    "    plt.ylabel('True label')\n",
    "    plt.xlabel('Predicted label')\n",
    "    plt.show()\n",
    "\n",
    "classes = np.arange(n_classes)\n",
    "plot_confusion_matrix(cm, classes=classes)\n",
    "plot_confusion_matrix(cm, classes=classes, normalize=True)"
   ]
  },
  {
   "cell_type": "code",
   "execution_count": null,
   "metadata": {
    "colab": {
     "base_uri": "https://localhost:8080/",
     "height": 345
    },
    "colab_type": "code",
    "executionInfo": {
     "elapsed": 829,
     "status": "ok",
     "timestamp": 1555250652154,
     "user": {
      "displayName": "Eyal Gruss",
      "photoUrl": "https://lh4.googleusercontent.com/-u09YaZrQAqY/AAAAAAAAAAI/AAAAAAAAC64/Edn8Phw0CRs/s64/photo.jpg",
      "userId": "10806915125759667398"
     },
     "user_tz": -180
    },
    "id": "LkCZz9zTeT57",
    "outputId": "94be7484-c367-442f-c445-c1311108e6b6"
   },
   "outputs": [],
   "source": [
    "from sklearn.metrics import classification_report\n",
    "report = classification_report(y_true=targets, y_pred=predictions, labels=classes)\n",
    "print(report)"
   ]
  },
  {
   "cell_type": "code",
   "execution_count": null,
   "metadata": {
    "colab": {
     "base_uri": "https://localhost:8080/",
     "height": 4919
    },
    "colab_type": "code",
    "executionInfo": {
     "elapsed": 8880,
     "status": "ok",
     "timestamp": 1555251128739,
     "user": {
      "displayName": "Eyal Gruss",
      "photoUrl": "https://lh4.googleusercontent.com/-u09YaZrQAqY/AAAAAAAAAAI/AAAAAAAAC64/Edn8Phw0CRs/s64/photo.jpg",
      "userId": "10806915125759667398"
     },
     "user_tz": -180
    },
    "id": "3QFs2KjNeT6I",
    "outputId": "b4f060a4-df90-4310-ba7e-56b37cd737f4"
   },
   "outputs": [],
   "source": [
    "# top errors\n",
    "from sklearn.metrics import log_loss\n",
    "max_probs = np.max(probabilities, axis=-1)\n",
    "losses = [log_loss(y_true=y, y_pred=prob, eps=1e-7) for y,prob in zip(y_test,probabilities)]\n",
    "print('loss\\tindex\\ttrue\\tpredicted\\tprobability')\n",
    "top_errors = sorted(list(zip(losses, np.arange(test_size), targets, predictions, max_probs)), reverse=True)[:10]\n",
    "for error in top_errors:\n",
    "    print('%.04f\\t%d\\t%d\\t%d\\t\\t%.04f'%error)\n",
    "    plt.figure()\n",
    "    plt.imshow(x_test[error[1]].reshape((xdim, ydim)), cmap='gray')"
   ]
  }
 ],
 "metadata": {
  "colab": {
   "name": "nn_2_mnist.ipynb",
   "provenance": [],
   "version": "0.3.2"
  },
  "kernelspec": {
   "display_name": "Python 3",
   "language": "python",
   "name": "python3"
  },
  "language_info": {
   "codemirror_mode": {
    "name": "ipython",
    "version": 3
   },
   "file_extension": ".py",
   "mimetype": "text/x-python",
   "name": "python",
   "nbconvert_exporter": "python",
   "pygments_lexer": "ipython3",
   "version": "3.6.8"
  }
 },
 "nbformat": 4,
 "nbformat_minor": 1
}
