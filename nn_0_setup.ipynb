{
  "nbformat": 4,
  "nbformat_minor": 0,
  "metadata": {
    "kernelspec": {
      "name": "python3",
      "display_name": "Python 3"
    },
    "language_info": {
      "codemirror_mode": {
        "name": "ipython",
        "version": 3
      },
      "file_extension": ".py",
      "mimetype": "text/x-python",
      "name": "python",
      "nbconvert_exporter": "python",
      "pygments_lexer": "ipython3",
      "version": "3.6.8"
    },
    "colab": {
      "name": "nn_0_setup.ipynb",
      "version": "0.3.2",
      "provenance": []
    },
    "accelerator": "GPU"
  },
  "cells": [
    {
      "cell_type": "markdown",
      "metadata": {
        "id": "JB0oJ0NACV8H",
        "colab_type": "text"
      },
      "source": [
        "[![Open In Colab](https://colab.research.google.com/assets/colab-badge.svg)](https://colab.research.google.com/github/eyaler/workshop/blob/master/nn_0_setup.ipynb)"
      ]
    },
    {
      "cell_type": "markdown",
      "metadata": {
        "id": "_gTj6xNPCV8P",
        "colab_type": "text"
      },
      "source": [
        "# Runtime -> Change runtime type -> Hardware accelerator -> GPU"
      ]
    },
    {
      "cell_type": "code",
      "metadata": {
        "scrolled": true,
        "id": "mU4ppYBpCV8T",
        "colab_type": "code",
        "colab": {}
      },
      "source": [
        "%%capture --no-display\n",
        "\n",
        "from vis.utils import utils\n",
        "from matplotlib import pyplot as plt\n",
        "plt.rcParams['figure.figsize'] = (16, 9)\n",
        "\n",
        "img1 = utils.load_img('https://raw.githubusercontent.com/eyaler/workshop/master/car.jpg')\n",
        "img2 = utils.load_img('https://raw.githubusercontent.com/eyaler/workshop/master/setup.jpg')\n",
        "\n",
        "from keras import backend as K\n",
        "gpu = K.tensorflow_backend._get_available_gpus()\n",
        "if gpu:\n",
        "    plt.imshow(img1)\n",
        "else:\n",
        "    plt.imshow(img2)"
      ],
      "execution_count": 0,
      "outputs": []
    }
  ]
}